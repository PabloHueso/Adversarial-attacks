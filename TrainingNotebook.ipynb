{
 "cells": [
  {
   "cell_type": "markdown",
   "id": "77dc0947",
   "metadata": {},
   "source": [
    "# Image classifiers"
   ]
  },
  {
   "cell_type": "code",
   "execution_count": 1,
   "id": "a836b0a4",
   "metadata": {},
   "outputs": [],
   "source": [
    "# Imports to be used through the notebook\n",
    "\n",
    "import torch \n",
    "import torchvision\n",
    "import torchvision.transforms as transforms\n",
    "\n",
    "import torch.nn as nn\n",
    "\n",
    "import matplotlib.pyplot as plt\n",
    "import numpy as np\n",
    "\n",
    "import torch.optim as optim\n",
    "import time\n",
    "\n",
    "import utils"
   ]
  },
  {
   "cell_type": "code",
   "execution_count": 2,
   "id": "ddd30eaa",
   "metadata": {},
   "outputs": [
    {
     "name": "stdout",
     "output_type": "stream",
     "text": [
      "cuda:0\n"
     ]
    }
   ],
   "source": [
    "device = torch.device('cuda:0' if torch.cuda.is_available() else 'cpu')\n",
    "\n",
    "print(device)"
   ]
  },
  {
   "cell_type": "markdown",
   "id": "7df41457",
   "metadata": {},
   "source": [
    "## Data (MNIST)"
   ]
  },
  {
   "cell_type": "code",
   "execution_count": 3,
   "id": "101f1d09",
   "metadata": {},
   "outputs": [],
   "source": [
    "# We define a transformation to apply to the items of the dataset (that are, by default, in PIL image format). The standardization will help with training.\n",
    "\n",
    "MEAN_MNIST = (0.1307,)\n",
    "STD_MNIST = (0.3081,)\n",
    "\n",
    "transform_mnist = transforms.Compose([\n",
    "    transforms.ToTensor(),\n",
    "    transforms.Normalize(MEAN_MNIST, STD_MNIST)])\n",
    "\n",
    "transform_mnist_unnormalized = transforms.Compose([\n",
    "    transforms.ToTensor()])\n",
    "\n",
    "trainset = torchvision.datasets.MNIST(root='C:\\\\Users\\\\PabloHueso\\\\OneDrive - CompoSistemas, S.L\\\\Documents\\\\Master\\\\M2\\\\ENAC\\\\Adversarial-attacks\\\\Datasets', train=True,\n",
    "                                        download=True, transform=transform_mnist_unnormalized)\n",
    "\n",
    "testset = torchvision.datasets.MNIST(root='C:\\\\Users\\\\PabloHueso\\\\OneDrive - CompoSistemas, S.L\\\\Documents\\\\Master\\\\M2\\\\ENAC\\\\Adversarial-attacks\\\\Datasets', train=False,\n",
    "                                       download=True, transform=transform_mnist_unnormalized)\n",
    "\n",
    "\n",
    "#trainset.__len__() # yields 60000\n",
    "#trainset.__getitem__(0) # tuple (image, class); image is a tensor 1x28x28 and class is an int\n",
    "#trainset.__getitem__(0)[0].shape #yields torch.Size([1, 28, 28])"
   ]
  },
  {
   "cell_type": "code",
   "execution_count": 4,
   "id": "fe02a6b2",
   "metadata": {},
   "outputs": [
    {
     "name": "stdout",
     "output_type": "stream",
     "text": [
      "Size train loader:  1875  | test loader:  313\n"
     ]
    }
   ],
   "source": [
    "# Trainloaders are dataset wrappers used to access them in a batched way. Of course this is very useful for NN training.\n",
    "batch_size = 32\n",
    "\n",
    "trainloader = torch.utils.data.DataLoader(trainset, batch_size=batch_size,\n",
    "                                          shuffle=True, num_workers=2)\n",
    "\n",
    "testloader = torch.utils.data.DataLoader(testset, batch_size=batch_size,\n",
    "                                         shuffle=False, num_workers=2)\n",
    "\n",
    "print(\"Size train loader: \", len(trainloader), \" | test loader: \", len(testloader))"
   ]
  },
  {
   "cell_type": "code",
   "execution_count": 5,
   "id": "ab6a9924",
   "metadata": {},
   "outputs": [],
   "source": [
    "batch = next(iter(trainloader)) # batches are lists of two tensors, one containing features and other labels."
   ]
  },
  {
   "cell_type": "code",
   "execution_count": 6,
   "id": "b06489e5",
   "metadata": {},
   "outputs": [
    {
     "data": {
      "image/png": "[encoded data removed]",
      "text/plain": [
       "<Figure size 640x480 with 1 Axes>"
      ]
     },
     "metadata": {},
     "output_type": "display_data"
    },
    {
     "name": "stdout",
     "output_type": "stream",
     "text": [
      "Labels:      4             6             9             7 \n",
      "\n",
      "Image shape (number of channels, height, width): (1, 28, 28)\n"
     ]
    }
   ],
   "source": [
    "# functions to show an image\n",
    "def imshow(img):\n",
    "    img = img * STD_MNIST[0] + MEAN_MNIST[0]  # Proper unnormalize\n",
    "    npimg = img.numpy()\n",
    "    plt.imshow(np.transpose(npimg, (1, 2, 0)), cmap='gray')  # MNIST is grayscale + original tensor shape is (1,28,28) so  np.transpose(img, (1, 2, 0)) gets it to shape (28,28,1) \n",
    "    plt.show()\n",
    "\n",
    "# get some random training images\n",
    "dataiter = iter(trainloader)\n",
    "images, labels = next(dataiter)\n",
    "images, labels = images[:4], labels[:4]\n",
    "\n",
    "# show images\n",
    "imshow(torchvision.utils.make_grid(images))\n",
    "# print labels\n",
    "print('Labels:     ','             '.join(f'{labels[j]}' for j in range(4)), '\\n')\n",
    "print(f'Image shape (number of channels, height, width): {tuple(images[0].shape)}')"
   ]
  },
  {
   "cell_type": "markdown",
   "id": "1b2cf4e3",
   "metadata": {},
   "source": [
    "## First model\n",
    "Note that this model outputs logits; not probabilities!"
   ]
  },
  {
   "cell_type": "code",
   "execution_count": 5,
   "id": "a901506e",
   "metadata": {},
   "outputs": [],
   "source": [
    "class SimpleCNN(nn.Module):\n",
    "    def __init__(self, input_channels, output_channels):\n",
    "        super().__init__()\n",
    "        self.conv = nn.Conv2d(input_channels, 10, 3)\n",
    "        self.pool = nn.MaxPool2d(2, 2)\n",
    "        self.fc = nn.Linear(1690, output_channels)\n",
    "\n",
    "    def forward(self, x):\n",
    "        # Initial shape is [B, 1, 28, 28]\n",
    "        x = self.conv(x)\n",
    "        # After convoluting, shape is [B, 10, 26, 26]\n",
    "        x = nn.ReLU()(x)\n",
    "        # After ReLU, shape is [B, 10, 26, 26] (it's an element-wise operation)\n",
    "        x = self.pool(x)\n",
    "        # After pooling, shape is [B, 10, 13, 13]\n",
    "        x = nn.Flatten()(x)\n",
    "        # After flattening shape is [B, 1690] (naturally, 1690 = 10x13x13)\n",
    "        x = self.fc(x)\n",
    "        # Final shape is [B, 10] (we have logits for 10 possible classes)\n",
    "        return x"
   ]
  },
  {
   "cell_type": "code",
   "execution_count": 8,
   "id": "29637a81",
   "metadata": {},
   "outputs": [
    {
     "data": {
      "text/plain": [
       "32"
      ]
     },
     "execution_count": 8,
     "metadata": {},
     "output_type": "execute_result"
    }
   ],
   "source": [
    "len(batch[0])"
   ]
  },
  {
   "cell_type": "markdown",
   "id": "e96aa7e8",
   "metadata": {},
   "source": [
    "### Training "
   ]
  },
  {
   "cell_type": "code",
   "execution_count": 6,
   "id": "8666fc11",
   "metadata": {},
   "outputs": [],
   "source": [
    "input_channels=1\n",
    "output_shape=10\n",
    "criterion = nn.CrossEntropyLoss()\n",
    "\n",
    "\n",
    "def build_and_train_model(archi=SimpleCNN, trainloader=trainloader, input_shape=input_channels, output_shape=output_shape, optimizer=optim.SGD, criterion=criterion, device=\"cpu\", n_epochs=20, lr=0.01):\n",
    " \n",
    "  # When building a model, you assign it to a particular device by setting: model = model.to(device); device is indicated by a string, like \"cpu\" our \"cuda:0\"\n",
    "  model = archi(input_shape,output_shape).to(device)\n",
    "  optimizer = optim.SGD(model.parameters(), lr=lr, momentum=0.9)\n",
    "  for epoch in range(n_epochs):  # loop over the dataset multiple times\n",
    "    running_loss = 0.0\n",
    "    for i, (x,y) in enumerate(trainloader):\n",
    "      # Same as for the model, you have to assign a device for your inputs and your label, for example: x = x.to(device)\n",
    "      inputs, labels = x.to(device), y.to(device)\n",
    "      # zero the parameter gradients\n",
    "      optimizer.zero_grad()\n",
    "\n",
    "      # forward + backward + optimize\n",
    "      outputs = model(inputs)\n",
    "      loss = criterion(outputs, labels)\n",
    "      loss.backward()\n",
    "      optimizer.step()\n",
    "      running_loss += loss.item()\n",
    "\n",
    "    print(f'Epoch {epoch} / {n_epochs} | Loss: {running_loss / len(trainloader)}')\n",
    "    running_loss = 0.0\n",
    "  return model"
   ]
  },
  {
   "cell_type": "code",
   "execution_count": 7,
   "id": "8bf1da94",
   "metadata": {},
   "outputs": [
    {
     "name": "stdout",
     "output_type": "stream",
     "text": [
      "Epoch 0 / 20 | Loss: 0.2808903154010574\n",
      "Epoch 1 / 20 | Loss: 0.10869014572103819\n",
      "Epoch 2 / 20 | Loss: 0.07820359647180886\n",
      "Epoch 3 / 20 | Loss: 0.06514626938644796\n",
      "Epoch 4 / 20 | Loss: 0.05589691630685702\n",
      "Epoch 5 / 20 | Loss: 0.05097346098938336\n",
      "Epoch 6 / 20 | Loss: 0.04723241805881262\n",
      "Epoch 7 / 20 | Loss: 0.0428250704837963\n",
      "Epoch 8 / 20 | Loss: 0.039861478072001286\n",
      "Epoch 9 / 20 | Loss: 0.03756430459135833\n",
      "Epoch 10 / 20 | Loss: 0.03545104061832341\n",
      "Epoch 11 / 20 | Loss: 0.03348648899283726\n",
      "Epoch 12 / 20 | Loss: 0.030768845820279483\n",
      "Epoch 13 / 20 | Loss: 0.02967828694120981\n",
      "Epoch 14 / 20 | Loss: 0.0276612089800726\n",
      "Epoch 15 / 20 | Loss: 0.026203384472705267\n",
      "Epoch 16 / 20 | Loss: 0.02476732923233455\n",
      "Epoch 17 / 20 | Loss: 0.023499608637047156\n",
      "Epoch 18 / 20 | Loss: 0.022434070594934748\n",
      "Epoch 19 / 20 | Loss: 0.021652104863669957\n",
      "Training with cuda:0 lasts: 2.56 minutes\n",
      "\n"
     ]
    }
   ],
   "source": [
    "start_time = time.time()\n",
    "model = build_and_train_model(device=device)\n",
    "print(f\"Training with {device} lasts: {np.round((time.time()-start_time)/60,2)} minutes\\n\")"
   ]
  },
  {
   "cell_type": "code",
   "execution_count": 8,
   "id": "3006120d",
   "metadata": {},
   "outputs": [],
   "source": [
    "# Once your model has been trained, you have to evaluate it on the test set.\n",
    "def test_loop(dataloader, model, loss_fn, device):\n",
    "    model.eval()\n",
    "    test_loss, correct = 0, 0\n",
    "    with torch.no_grad():\n",
    "      for X, y in dataloader:\n",
    "          pred = model(X.to(device))\n",
    "          loss = loss_fn(pred, y.to(device)).item()\n",
    "          test_loss += loss\n",
    "          # Your current output is the for each class to be the right one.\n",
    "          prediction = pred.argmax(axis=1)\n",
    "          # To compute the accuracy score, we need to know how many correct predictions we got.\n",
    "          correct += (prediction == y.to(device)).sum().item()\n",
    "          ###\n",
    "    test_loss /= len(dataloader)\n",
    "    correct /= len(dataloader.dataset)\n",
    "    print(f\"Test Error: Accuracy: {(100*correct):>0.1f}%, Avg loss: {test_loss:>8f} \\n\")\n",
    "    return test_loss"
   ]
  },
  {
   "cell_type": "code",
   "execution_count": 9,
   "id": "3f72c008",
   "metadata": {},
   "outputs": [
    {
     "name": "stdout",
     "output_type": "stream",
     "text": [
      "Test Error: Accuracy: 98.4%, Avg loss: 0.060009 \n",
      "\n"
     ]
    }
   ],
   "source": [
    "loss = test_loop(testloader, model, criterion, device)"
   ]
  },
  {
   "cell_type": "code",
   "execution_count": 10,
   "id": "88564cbe",
   "metadata": {},
   "outputs": [],
   "source": [
    "torch.save(model.state_dict(), 'Models/MNISTsmall-unnormalized.pt')"
   ]
  },
  {
   "cell_type": "markdown",
   "id": "bb23bbb9",
   "metadata": {},
   "source": [
    "## Second model with final softmax"
   ]
  },
  {
   "cell_type": "code",
   "execution_count": null,
   "id": "f2554fc7",
   "metadata": {},
   "outputs": [],
   "source": [
    "class SimpleCNNprobas(nn.Module):\n",
    "    def __init__(self, input_channels, output_channels):\n",
    "        super().__init__()\n",
    "        self.conv = nn.Conv2d(input_channels, 10, 3)\n",
    "        self.pool = nn.MaxPool2d(2, 2)\n",
    "        self.fc = nn.Linear(1690, output_channels)\n",
    "\n",
    "    def forward(self, x):\n",
    "        # Initial shape is [B, 1, 28, 28]\n",
    "        x = self.conv(x)\n",
    "        # After convoluting, shape is [B, 10, 26, 26]\n",
    "        x = nn.ReLU()(x)\n",
    "        # After ReLU, shape is [B, 10, 26, 26] (it's an element-wise operation)\n",
    "        x = self.pool(x)\n",
    "        # After pooling, shape is [B, 10, 13, 13]\n",
    "        x = nn.Flatten()(x)\n",
    "        # After flattening shape is [B, 1690] (naturally, 1690 = 10x13x13)\n",
    "        x = self.fc(x)\n",
    "        # Final shape is [B, 10] (we have logits for 10 possible classes)\n",
    "        x = nn.functional.softmax(x, dim=1)   \n",
    "        # Does not change shape either\n",
    "        return x"
   ]
  }
 ],
 "metadata": {
  "kernelspec": {
   "display_name": "EntornoDL",
   "language": "python",
   "name": "python3"
  },
  "language_info": {
   "codemirror_mode": {
    "name": "ipython",
    "version": 3
   },
   "file_extension": ".py",
   "mimetype": "text/x-python",
   "name": "python",
   "nbconvert_exporter": "python",
   "pygments_lexer": "ipython3",
   "version": "3.10.12"
  }
 },
 "nbformat": 4,
 "nbformat_minor": 5
}
