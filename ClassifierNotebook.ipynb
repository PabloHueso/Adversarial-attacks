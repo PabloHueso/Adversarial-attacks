{
 "cells": [
  {
   "cell_type": "markdown",
   "id": "e512a49d",
   "metadata": {},
   "source": [
    "# Image classifiers"
   ]
  },
  {
   "cell_type": "code",
   "execution_count": 2,
   "id": "ab88c3c6",
   "metadata": {},
   "outputs": [],
   "source": [
    "# Imports to be used through the notebook\n",
    "\n",
    "import torch \n",
    "import torchvision\n",
    "import torchvision.transforms as transforms\n",
    "\n",
    "import torch.nn as nn\n",
    "\n",
    "import matplotlib.pyplot as plt\n",
    "import numpy as np\n",
    "\n",
    "import torch.optim as optim\n",
    "import time\n",
    "\n",
    "%load_ext autoreload\n",
    "%autoreload 2\n",
    "\n",
    "import utils"
   ]
  },
  {
   "cell_type": "code",
   "execution_count": 3,
   "id": "76d39101",
   "metadata": {},
   "outputs": [
    {
     "name": "stdout",
     "output_type": "stream",
     "text": [
      "cuda:0\n"
     ]
    }
   ],
   "source": [
    "import torch \n",
    "\n",
    "device = torch.device('cuda:0' if torch.cuda.is_available() else 'cpu')\n",
    "\n",
    "print(device)"
   ]
  },
  {
   "cell_type": "markdown",
   "id": "1523ef60",
   "metadata": {},
   "source": [
    "## Data (MNIST)"
   ]
  },
  {
   "cell_type": "code",
   "execution_count": 4,
   "id": "8f230f32",
   "metadata": {},
   "outputs": [],
   "source": [
    "# We define a transformation to apply to the items of the dataset (that are, by default, in PIL image format). The standardization will help with training.\n",
    "\n",
    "MEAN_MNIST = (0.1307,)\n",
    "STD_MNIST = (0.3081,)\n",
    "\n",
    "transform_mnist = transforms.Compose([\n",
    "    transforms.ToTensor(),\n",
    "    transforms.Normalize(MEAN_MNIST, STD_MNIST)])\n",
    "\n",
    "\n",
    "trainset = torchvision.datasets.MNIST(root='C:\\\\Users\\\\PabloHueso\\\\OneDrive - CompoSistemas, S.L\\\\Documents\\\\Master\\\\M2\\\\ENAC\\\\Adversarial-attacks\\\\Datasets', train=True,\n",
    "                                        download=True, transform=transform_mnist)\n",
    "\n",
    "testset = torchvision.datasets.MNIST(root='C:\\\\Users\\\\PabloHueso\\\\OneDrive - CompoSistemas, S.L\\\\Documents\\\\Master\\\\M2\\\\ENAC\\\\Adversarial-attacks\\\\Datasets', train=False,\n",
    "                                       download=True, transform=transform_mnist)\n",
    "\n",
    "\n",
    "#trainset.__len__() # yields 60000\n",
    "#trainset.__getitem__(0) # tuple (image, class); image is a tensor 1x28x28 and class is an int\n",
    "#trainset.__getitem__(0)[0].shape #yields torch.Size([1, 28, 28])"
   ]
  },
  {
   "cell_type": "code",
   "execution_count": 5,
   "id": "28556f4a",
   "metadata": {},
   "outputs": [
    {
     "name": "stdout",
     "output_type": "stream",
     "text": [
      "Size train loader:  1875  | test loader:  313\n"
     ]
    }
   ],
   "source": [
    "# Trainloaders are dataset wrappers used to access them in a batched way. Of course this is very useful for NN training.\n",
    "batch_size = 32\n",
    "\n",
    "trainloader = torch.utils.data.DataLoader(trainset, batch_size=batch_size,\n",
    "                                          shuffle=True, num_workers=2)\n",
    "\n",
    "testloader = torch.utils.data.DataLoader(testset, batch_size=batch_size,\n",
    "                                         shuffle=False, num_workers=2)\n",
    "\n",
    "print(\"Size train loader: \", len(trainloader), \" | test loader: \", len(testloader))"
   ]
  },
  {
   "cell_type": "code",
   "execution_count": 6,
   "id": "67044aae",
   "metadata": {},
   "outputs": [],
   "source": [
    "batch = next(iter(trainloader)) # batches are lists of two tensors, one containing features and other labels."
   ]
  },
  {
   "cell_type": "code",
   "execution_count": 7,
   "id": "4011dce3",
   "metadata": {},
   "outputs": [
    {
     "data": {
      "image/png": "[encoded data removed]",
      "text/plain": [
       "<Figure size 640x480 with 1 Axes>"
      ]
     },
     "metadata": {},
     "output_type": "display_data"
    },
    {
     "name": "stdout",
     "output_type": "stream",
     "text": [
      "Labels:      2             3             1             1 \n",
      "\n",
      "Image shape (number of channels, height, width): (1, 28, 28)\n"
     ]
    }
   ],
   "source": [
    "# functions to show an image\n",
    "def imshow(img):\n",
    "    img = img * STD_MNIST[0] + MEAN_MNIST[0]  # Proper unnormalize\n",
    "    npimg = img.numpy()\n",
    "    plt.imshow(np.transpose(npimg, (1, 2, 0)), cmap='gray')  # MNIST is grayscale + original tensor shape is (1,28,28) so  np.transpose(img, (1, 2, 0)) gets it to shape (28,28,1) \n",
    "    plt.show()\n",
    "\n",
    "# get some random training images\n",
    "dataiter = iter(trainloader)\n",
    "images, labels = next(dataiter)\n",
    "images, labels = images[:4], labels[:4]\n",
    "\n",
    "# show images\n",
    "imshow(torchvision.utils.make_grid(images))\n",
    "# print labels\n",
    "print('Labels:     ','             '.join(f'{labels[j]}' for j in range(4)), '\\n')\n",
    "print(f'Image shape (number of channels, height, width): {tuple(images[0].shape)}')"
   ]
  },
  {
   "cell_type": "code",
   "execution_count": 17,
   "id": "d5735da0",
   "metadata": {},
   "outputs": [
    {
     "data": {
      "text/plain": [
       "torch.Size([4, 1, 28, 28])"
      ]
     },
     "execution_count": 17,
     "metadata": {},
     "output_type": "execute_result"
    }
   ],
   "source": [
    "images.shape"
   ]
  },
  {
   "cell_type": "markdown",
   "id": "79fd06b6",
   "metadata": {},
   "source": [
    "## Load model\n"
   ]
  },
  {
   "cell_type": "code",
   "execution_count": 8,
   "id": "630ea122",
   "metadata": {},
   "outputs": [
    {
     "data": {
      "text/plain": [
       "SimpleCNN(\n",
       "  (conv): Conv2d(1, 10, kernel_size=(3, 3), stride=(1, 1))\n",
       "  (pool): MaxPool2d(kernel_size=2, stride=2, padding=0, dilation=1, ceil_mode=False)\n",
       "  (fc): Linear(in_features=1690, out_features=10, bias=True)\n",
       ")"
      ]
     },
     "execution_count": 8,
     "metadata": {},
     "output_type": "execute_result"
    }
   ],
   "source": [
    "import archis\n",
    "model = archis.SimpleCNN(input_channels=1, output_channels=10)\n",
    "model.load_state_dict(torch.load('Models\\MNISTsmall.pth'))\n",
    "model.to(device)\n",
    "model.eval()"
   ]
  },
  {
   "cell_type": "markdown",
   "id": "d1c20446",
   "metadata": {},
   "source": [
    "## Example of attack"
   ]
  },
  {
   "cell_type": "code",
   "execution_count": 9,
   "id": "70ca8641",
   "metadata": {},
   "outputs": [],
   "source": [
    "x_batch, y_batch = next(iter(trainloader)) #x_batch is of dimension [B, C, H, W] = [512, 1, 28, 28]. Elements of it (like x_batch[0]) are of dimension [C, H, W] = [1, 28, 28].\n",
    "x_single = x_batch[0].unsqueeze(0)  # Add batch dimension back (shape: [1, C, H, W])\n",
    "\n",
    "\n",
    "x_single = x_single.to(device)\n",
    "output = model(x_single)"
   ]
  },
  {
   "cell_type": "code",
   "execution_count": 10,
   "id": "c641f6ad",
   "metadata": {},
   "outputs": [],
   "source": [
    "x_batch = x_batch.to(device)"
   ]
  },
  {
   "cell_type": "code",
   "execution_count": 15,
   "id": "5f38d296",
   "metadata": {},
   "outputs": [],
   "source": [
    "import utils\n",
    "x_adv_1 = utils.ocf_attack(model, x_single, attacked_class=2, nb_steps=1, total_budget=100)\n",
    "x_adv_2 = utils.ocf_attack(model, x_single, attacked_class=2, nb_steps=10, total_budget=100)\n",
    "x_adv_3 = utils.ocf_attack(model, x_single, attacked_class=2, nb_steps=30, total_budget=100)\n",
    "x_adv_4 = utils.ocf_attack(model, x_single, attacked_class=2, nb_steps=100, total_budget=100)"
   ]
  },
  {
   "cell_type": "code",
   "execution_count": 24,
   "id": "cb9bd1a2",
   "metadata": {},
   "outputs": [],
   "source": [
    "x_adv_1 = x_adv_1.to('cpu')\n",
    "x_adv_2 = x_adv_2.to('cpu')\n",
    "x_adv_3 = x_adv_3.to('cpu')\n",
    "x_adv_4 = x_adv_4.to('cpu')\n",
    "x_single = x_single.to('cpu')"
   ]
  },
  {
   "cell_type": "code",
   "execution_count": 25,
   "id": "cb24458c",
   "metadata": {},
   "outputs": [
    {
     "name": "stderr",
     "output_type": "stream",
     "text": [
      "Clipping input data to the valid range for imshow with RGB data ([0..1] for floats or [0..255] for integers).\n"
     ]
    },
    {
     "data": {
      "image/png": "[encoded data removed]",
      "text/plain": [
       "<Figure size 640x480 with 1 Axes>"
      ]
     },
     "metadata": {},
     "output_type": "display_data"
    }
   ],
   "source": [
    "adversarial_examples = torch.cat((x_adv_1, x_adv_2, x_adv_3, x_adv_4, x_single), dim=0)\n",
    "imshow(torchvision.utils.make_grid(adversarial_examples))"
   ]
  },
  {
   "cell_type": "code",
   "execution_count": 13,
   "id": "33b07338",
   "metadata": {},
   "outputs": [],
   "source": [
    "x_adv_batch = utils.ocf_attack(model, x_batch, nb_steps=4, total_budget=20)"
   ]
  },
  {
   "cell_type": "markdown",
   "id": "49647cef",
   "metadata": {},
   "source": [
    "## Attack performance"
   ]
  }
 ],
 "metadata": {
  "kernelspec": {
   "display_name": "EntornoDL",
   "language": "python",
   "name": "python3"
  },
  "language_info": {
   "codemirror_mode": {
    "name": "ipython",
    "version": 3
   },
   "file_extension": ".py",
   "mimetype": "text/x-python",
   "name": "python",
   "nbconvert_exporter": "python",
   "pygments_lexer": "ipython3",
   "version": "3.10.12"
  }
 },
 "nbformat": 4,
 "nbformat_minor": 5
}
