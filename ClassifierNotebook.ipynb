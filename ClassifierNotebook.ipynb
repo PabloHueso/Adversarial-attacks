{
 "cells": [
  {
   "cell_type": "markdown",
   "id": "e512a49d",
   "metadata": {},
   "source": [
    "# Image classifiers"
   ]
  },
  {
   "cell_type": "code",
   "execution_count": 1,
   "id": "ab88c3c6",
   "metadata": {},
   "outputs": [],
   "source": [
    "# Imports to be used through the notebook\n",
    "\n",
    "import torch \n",
    "import torchvision\n",
    "import torchvision.transforms as transforms\n",
    "\n",
    "import torch.nn as nn\n",
    "\n",
    "import matplotlib.pyplot as plt\n",
    "import numpy as np\n",
    "\n",
    "import torch.optim as optim\n",
    "import time\n",
    "\n",
    "\n",
    "import utils"
   ]
  },
  {
   "cell_type": "code",
   "execution_count": 2,
   "id": "76d39101",
   "metadata": {},
   "outputs": [
    {
     "name": "stdout",
     "output_type": "stream",
     "text": [
      "cuda:0\n"
     ]
    }
   ],
   "source": [
    "import torch \n",
    "\n",
    "device = torch.device('cuda:0' if torch.cuda.is_available() else 'cpu')\n",
    "\n",
    "print(device)"
   ]
  },
  {
   "cell_type": "markdown",
   "id": "1523ef60",
   "metadata": {},
   "source": [
    "## Data (MNIST)"
   ]
  },
  {
   "cell_type": "code",
   "execution_count": 3,
   "id": "8f230f32",
   "metadata": {},
   "outputs": [],
   "source": [
    "# We define a transformation to apply to the items of the dataset (that are, by default, in PIL image format). The standardization will help with training.\n",
    "\n",
    "MEAN_MNIST = (0.1307,)\n",
    "STD_MNIST = (0.3081,)\n",
    "\n",
    "transform_mnist = transforms.Compose([\n",
    "    transforms.ToTensor(),\n",
    "    transforms.Normalize(MEAN_MNIST, STD_MNIST)])\n",
    "\n",
    "\n",
    "trainset = torchvision.datasets.MNIST(root='C:\\\\Users\\\\PabloHueso\\\\OneDrive - CompoSistemas, S.L\\\\Documents\\\\Master\\\\M2\\\\ENAC\\\\Adversarial-attacks\\\\Datasets', train=True,\n",
    "                                        download=True, transform=transform_mnist)\n",
    "\n",
    "testset = torchvision.datasets.MNIST(root='C:\\\\Users\\\\PabloHueso\\\\OneDrive - CompoSistemas, S.L\\\\Documents\\\\Master\\\\M2\\\\ENAC\\\\Adversarial-attacks\\\\Datasets', train=False,\n",
    "                                       download=True, transform=transform_mnist)\n",
    "\n",
    "\n",
    "#trainset.__len__() # yields 60000\n",
    "#trainset.__getitem__(0) # tuple (image, class); image is a tensor 1x28x28 and class is an int\n",
    "#trainset.__getitem__(0)[0].shape #yields torch.Size([1, 28, 28])"
   ]
  },
  {
   "cell_type": "code",
   "execution_count": 4,
   "id": "28556f4a",
   "metadata": {},
   "outputs": [
    {
     "name": "stdout",
     "output_type": "stream",
     "text": [
      "Size train loader:  1875  | test loader:  313\n"
     ]
    }
   ],
   "source": [
    "# Trainloaders are dataset wrappers used to access them in a batched way. Of course this is very useful for NN training.\n",
    "batch_size = 32\n",
    "\n",
    "trainloader = torch.utils.data.DataLoader(trainset, batch_size=batch_size,\n",
    "                                          shuffle=True, num_workers=2)\n",
    "\n",
    "testloader = torch.utils.data.DataLoader(testset, batch_size=batch_size,\n",
    "                                         shuffle=False, num_workers=2)\n",
    "\n",
    "print(\"Size train loader: \", len(trainloader), \" | test loader: \", len(testloader))"
   ]
  },
  {
   "cell_type": "code",
   "execution_count": 5,
   "id": "67044aae",
   "metadata": {},
   "outputs": [],
   "source": [
    "batch = next(iter(trainloader)) # batches are lists of two tensors, one containing features and other labels."
   ]
  },
  {
   "cell_type": "code",
   "execution_count": 6,
   "id": "4011dce3",
   "metadata": {},
   "outputs": [
    {
     "data": {
      "image/png": "[encoded data removed]",
      "text/plain": [
       "<Figure size 640x480 with 1 Axes>"
      ]
     },
     "metadata": {},
     "output_type": "display_data"
    },
    {
     "name": "stdout",
     "output_type": "stream",
     "text": [
      "Labels:      3             9             2             0 \n",
      "\n",
      "Image shape (number of channels, height, width): (1, 28, 28)\n"
     ]
    }
   ],
   "source": [
    "# functions to show an image\n",
    "def imshow(img):\n",
    "    img = img * STD_MNIST[0] + MEAN_MNIST[0]  # Proper unnormalize\n",
    "    npimg = img.numpy()\n",
    "    plt.imshow(np.transpose(npimg, (1, 2, 0)), cmap='gray')  # MNIST is grayscale + original tensor shape is (1,28,28) so  np.transpose(img, (1, 2, 0)) gets it to shape (28,28,1) \n",
    "    plt.show()\n",
    "\n",
    "# get some random training images\n",
    "dataiter = iter(trainloader)\n",
    "images, labels = next(dataiter)\n",
    "images, labels = images[:4], labels[:4]\n",
    "\n",
    "# show images\n",
    "imshow(torchvision.utils.make_grid(images))\n",
    "# print labels\n",
    "print('Labels:     ','             '.join(f'{labels[j]}' for j in range(4)), '\\n')\n",
    "print(f'Image shape (number of channels, height, width): {tuple(images[0].shape)}')"
   ]
  },
  {
   "cell_type": "code",
   "execution_count": 7,
   "id": "d5735da0",
   "metadata": {},
   "outputs": [
    {
     "data": {
      "text/plain": [
       "torch.Size([4, 1, 28, 28])"
      ]
     },
     "execution_count": 7,
     "metadata": {},
     "output_type": "execute_result"
    }
   ],
   "source": [
    "images.shape"
   ]
  },
  {
   "cell_type": "markdown",
   "id": "79fd06b6",
   "metadata": {},
   "source": [
    "## Load model\n"
   ]
  },
  {
   "cell_type": "code",
   "execution_count": 8,
   "id": "630ea122",
   "metadata": {},
   "outputs": [
    {
     "data": {
      "text/plain": [
       "SimpleCNN(\n",
       "  (conv): Conv2d(1, 10, kernel_size=(3, 3), stride=(1, 1))\n",
       "  (pool): MaxPool2d(kernel_size=2, stride=2, padding=0, dilation=1, ceil_mode=False)\n",
       "  (fc): Linear(in_features=1690, out_features=10, bias=True)\n",
       ")"
      ]
     },
     "execution_count": 8,
     "metadata": {},
     "output_type": "execute_result"
    }
   ],
   "source": [
    "import archis\n",
    "model = archis.SimpleCNN(input_channels=1, output_channels=10)\n",
    "model.load_state_dict(torch.load('Models\\MNISTsmall.pth'))\n",
    "model.to(device)\n",
    "model.eval()"
   ]
  },
  {
   "cell_type": "markdown",
   "id": "d1c20446",
   "metadata": {},
   "source": [
    "## Example of attack"
   ]
  },
  {
   "cell_type": "code",
   "execution_count": 9,
   "id": "70ca8641",
   "metadata": {},
   "outputs": [],
   "source": [
    "x_batch, y_batch = next(iter(trainloader)) #x_batch is of dimension [B, C, H, W] = [512, 1, 28, 28]. Elements of it (like x_batch[0]) are of dimension [C, H, W] = [1, 28, 28].\n",
    "x_single = x_batch[0].unsqueeze(0)  # Add batch dimension back (shape: [1, C, H, W])\n",
    "\n",
    "\n",
    "x_single = x_single.to(device)\n",
    "output = model(x_single)"
   ]
  },
  {
   "cell_type": "code",
   "execution_count": 10,
   "id": "c641f6ad",
   "metadata": {},
   "outputs": [],
   "source": [
    "x_batch = x_batch.to(device)"
   ]
  },
  {
   "cell_type": "code",
   "execution_count": 11,
   "id": "5f38d296",
   "metadata": {},
   "outputs": [],
   "source": [
    "import utils\n",
    "x_adv_1 = utils.ocf_attack(model, x_single, attacked_class=2, nb_steps=1, total_budget=100)\n",
    "x_adv_2 = utils.ocf_attack(model, x_single, attacked_class=2, nb_steps=10, total_budget=100)\n",
    "x_adv_3 = utils.ocf_attack(model, x_single, attacked_class=2, nb_steps=30, total_budget=100)\n",
    "x_adv_4 = utils.ocf_attack(model, x_single, attacked_class=2, nb_steps=100, total_budget=100)"
   ]
  },
  {
   "cell_type": "code",
   "execution_count": 12,
   "id": "cb9bd1a2",
   "metadata": {},
   "outputs": [],
   "source": [
    "x_adv_1 = x_adv_1.to('cpu')\n",
    "x_adv_2 = x_adv_2.to('cpu')\n",
    "x_adv_3 = x_adv_3.to('cpu')\n",
    "x_adv_4 = x_adv_4.to('cpu')\n",
    "x_single = x_single.to('cpu')"
   ]
  },
  {
   "cell_type": "code",
   "execution_count": 13,
   "id": "cb24458c",
   "metadata": {},
   "outputs": [
    {
     "name": "stderr",
     "output_type": "stream",
     "text": [
      "Clipping input data to the valid range for imshow with RGB data ([0..1] for floats or [0..255] for integers).\n"
     ]
    },
    {
     "data": {
      "image/png": "[encoded data removed]",
      "text/plain": [
       "<Figure size 640x480 with 1 Axes>"
      ]
     },
     "metadata": {},
     "output_type": "display_data"
    }
   ],
   "source": [
    "adversarial_examples = torch.cat((x_adv_1, x_adv_2, x_adv_3, x_adv_4, x_single), dim=0)\n",
    "imshow(torchvision.utils.make_grid(adversarial_examples))"
   ]
  },
  {
   "cell_type": "code",
   "execution_count": 20,
   "id": "7410efdb",
   "metadata": {},
   "outputs": [
    {
     "data": {
      "image/png": "[encoded data removed]",
      "text/plain": [
       "<Figure size 480x480 with 2 Axes>"
      ]
     },
     "metadata": {},
     "output_type": "display_data"
    },
    {
     "data": {
      "image/png": "[encoded data removed]",
      "text/plain": [
       "<Figure size 480x480 with 2 Axes>"
      ]
     },
     "metadata": {},
     "output_type": "display_data"
    },
    {
     "data": {
      "image/png": "[encoded data removed]",
      "text/plain": [
       "<Figure size 480x480 with 2 Axes>"
      ]
     },
     "metadata": {},
     "output_type": "display_data"
    },
    {
     "data": {
      "image/png": "[encoded data removed]",
      "text/plain": [
       "<Figure size 480x480 with 2 Axes>"
      ]
     },
     "metadata": {},
     "output_type": "display_data"
    },
    {
     "data": {
      "image/png": "[encoded data removed]",
      "text/plain": [
       "<Figure size 480x480 with 2 Axes>"
      ]
     },
     "metadata": {},
     "output_type": "display_data"
    }
   ],
   "source": [
    "for i in range(adversarial_examples.shape[0]):\n",
    "    v = plt.matshow(adversarial_examples.detach().numpy()[i].squeeze(0)) # Shaping each image to matrix form\n",
    "    plt.colorbar(v)"
   ]
  },
  {
   "cell_type": "code",
   "execution_count": 14,
   "id": "33b07338",
   "metadata": {},
   "outputs": [],
   "source": [
    "x_adv_batch = utils.ocf_attack(model, x_batch, nb_steps=4, total_budget=20)"
   ]
  },
  {
   "cell_type": "markdown",
   "id": "49647cef",
   "metadata": {},
   "source": [
    "## Attack performance"
   ]
  },
  {
   "cell_type": "code",
   "execution_count": 25,
   "id": "14454cc3",
   "metadata": {},
   "outputs": [
    {
     "data": {
      "application/vnd.jupyter.widget-view+json": {
       "model_id": "ed9d2fdcbe23438d827edbbd739382e9",
       "version_major": 2,
       "version_minor": 0
      },
      "text/plain": [
       "Batches:   0%|          | 0/313 [00:00<?, ?it/s]"
      ]
     },
     "metadata": {},
     "output_type": "display_data"
    },
    {
     "data": {
      "application/vnd.jupyter.widget-view+json": {
       "model_id": "7fec81c6bc9c4347819a467ec887e719",
       "version_major": 2,
       "version_minor": 0
      },
      "text/plain": [
       "nb_steps:   0%|          | 0/10 [00:00<?, ?it/s]"
      ]
     },
     "metadata": {},
     "output_type": "display_data"
    },
    {
     "data": {
      "application/vnd.jupyter.widget-view+json": {
       "model_id": "bfeed3d3ecc64aad9e95496b3710041d",
       "version_major": 2,
       "version_minor": 0
      },
      "text/plain": [
       "budget:   0%|          | 0/4 [00:00<?, ?it/s]"
      ]
     },
     "metadata": {},
     "output_type": "display_data"
    },
    {
     "data": {
      "application/vnd.jupyter.widget-view+json": {
       "model_id": "9c3f4dc4d853477ebb38f9cb5188abfd",
       "version_major": 2,
       "version_minor": 0
      },
      "text/plain": [
       "budget:   0%|          | 0/4 [00:00<?, ?it/s]"
      ]
     },
     "metadata": {},
     "output_type": "display_data"
    },
    {
     "data": {
      "application/vnd.jupyter.widget-view+json": {
       "model_id": "e147e9cd5be742fe968d18728a1c35da",
       "version_major": 2,
       "version_minor": 0
      },
      "text/plain": [
       "budget:   0%|          | 0/4 [00:00<?, ?it/s]"
      ]
     },
     "metadata": {},
     "output_type": "display_data"
    },
    {
     "data": {
      "application/vnd.jupyter.widget-view+json": {
       "model_id": "8aac5de5b1e74470b5434a9dfbac9658",
       "version_major": 2,
       "version_minor": 0
      },
      "text/plain": [
       "budget:   0%|          | 0/4 [00:00<?, ?it/s]"
      ]
     },
     "metadata": {},
     "output_type": "display_data"
    },
    {
     "data": {
      "application/vnd.jupyter.widget-view+json": {
       "model_id": "145f1a0b1c4b45d09f6fed08a997ed7d",
       "version_major": 2,
       "version_minor": 0
      },
      "text/plain": [
       "budget:   0%|          | 0/4 [00:00<?, ?it/s]"
      ]
     },
     "metadata": {},
     "output_type": "display_data"
    },
    {
     "data": {
      "application/vnd.jupyter.widget-view+json": {
       "model_id": "67c5f18c820047f5855cc491d2b7006e",
       "version_major": 2,
       "version_minor": 0
      },
      "text/plain": [
       "budget:   0%|          | 0/4 [00:00<?, ?it/s]"
      ]
     },
     "metadata": {},
     "output_type": "display_data"
    },
    {
     "data": {
      "application/vnd.jupyter.widget-view+json": {
       "model_id": "55386c6a8775470ead840c618ef61ebb",
       "version_major": 2,
       "version_minor": 0
      },
      "text/plain": [
       "budget:   0%|          | 0/4 [00:00<?, ?it/s]"
      ]
     },
     "metadata": {},
     "output_type": "display_data"
    },
    {
     "data": {
      "application/vnd.jupyter.widget-view+json": {
       "model_id": "d286e5e7086947f981940d06f04f383b",
       "version_major": 2,
       "version_minor": 0
      },
      "text/plain": [
       "budget:   0%|          | 0/4 [00:00<?, ?it/s]"
      ]
     },
     "metadata": {},
     "output_type": "display_data"
    },
    {
     "data": {
      "application/vnd.jupyter.widget-view+json": {
       "model_id": "9f59d8c8b9be457d87c2673b0cdc5797",
       "version_major": 2,
       "version_minor": 0
      },
      "text/plain": [
       "budget:   0%|          | 0/4 [00:00<?, ?it/s]"
      ]
     },
     "metadata": {},
     "output_type": "display_data"
    },
    {
     "data": {
      "application/vnd.jupyter.widget-view+json": {
       "model_id": "e03ff98236354698b41919d37c899d0c",
       "version_major": 2,
       "version_minor": 0
      },
      "text/plain": [
       "budget:   0%|          | 0/4 [00:00<?, ?it/s]"
      ]
     },
     "metadata": {},
     "output_type": "display_data"
    },
    {
     "ename": "KeyboardInterrupt",
     "evalue": "",
     "output_type": "error",
     "traceback": [
      "\u001b[1;31m---------------------------------------------------------------------------\u001b[0m",
      "\u001b[1;31mKeyboardInterrupt\u001b[0m                         Traceback (most recent call last)",
      "Cell \u001b[1;32mIn[25], line 47\u001b[0m\n\u001b[0;32m     41\u001b[0m \u001b[38;5;28;01mfor\u001b[39;00m i_nb, nb_steps \u001b[38;5;129;01min\u001b[39;00m \u001b[38;5;28menumerate\u001b[39m(\n\u001b[0;32m     42\u001b[0m         tqdm(nb_step_grid, desc\u001b[38;5;241m=\u001b[39m\u001b[38;5;124m\"\u001b[39m\u001b[38;5;124mnb_steps\u001b[39m\u001b[38;5;124m\"\u001b[39m, position\u001b[38;5;241m=\u001b[39m\u001b[38;5;241m1\u001b[39m, leave\u001b[38;5;241m=\u001b[39m\u001b[38;5;28;01mFalse\u001b[39;00m)):\n\u001b[0;32m     44\u001b[0m     \u001b[38;5;28;01mfor\u001b[39;00m j_tb, total_budget \u001b[38;5;129;01min\u001b[39;00m \u001b[38;5;28menumerate\u001b[39m(\n\u001b[0;32m     45\u001b[0m             tqdm(total_budget_grid, desc\u001b[38;5;241m=\u001b[39m\u001b[38;5;124m\"\u001b[39m\u001b[38;5;124mbudget\u001b[39m\u001b[38;5;124m\"\u001b[39m, position\u001b[38;5;241m=\u001b[39m\u001b[38;5;241m2\u001b[39m, leave\u001b[38;5;241m=\u001b[39m\u001b[38;5;28;01mFalse\u001b[39;00m)):\n\u001b[1;32m---> 47\u001b[0m         adv_images \u001b[38;5;241m=\u001b[39m \u001b[43mutils\u001b[49m\u001b[38;5;241;43m.\u001b[39;49m\u001b[43mocf_attack\u001b[49m\u001b[43m(\u001b[49m\u001b[43mmodel\u001b[49m\u001b[43m,\u001b[49m\u001b[43m \u001b[49m\u001b[43mimages\u001b[49m\u001b[43m,\u001b[49m\u001b[43m \u001b[49m\u001b[43mattacked_class\u001b[49m\u001b[38;5;241;43m=\u001b[39;49m\u001b[38;5;241;43m2\u001b[39;49m\u001b[43m,\u001b[49m\n\u001b[0;32m     48\u001b[0m \u001b[43m                                \u001b[49m\u001b[43mnb_steps\u001b[49m\u001b[38;5;241;43m=\u001b[39;49m\u001b[43mnb_steps\u001b[49m\u001b[43m,\u001b[49m\n\u001b[0;32m     49\u001b[0m \u001b[43m                                \u001b[49m\u001b[43mtotal_budget\u001b[49m\u001b[38;5;241;43m=\u001b[39;49m\u001b[43mtotal_budget\u001b[49m\u001b[43m)\u001b[49m\n\u001b[0;32m     51\u001b[0m         logits \u001b[38;5;241m=\u001b[39m model(adv_images)\n\u001b[0;32m     53\u001b[0m         \u001b[38;5;66;03m# Store logits\u001b[39;00m\n",
      "File \u001b[1;32mc:\\Users\\PabloHueso\\OneDrive - CompoSistemas, S.L\\Documents\\Master\\M2\\ENAC\\Adversarial-attacks\\utils.py:49\u001b[0m, in \u001b[0;36mocf_attack\u001b[1;34m(model, batch, attacked_class, nb_steps, total_budget)\u001b[0m\n\u001b[0;32m     47\u001b[0m \u001b[38;5;28;01mfor\u001b[39;00m i \u001b[38;5;129;01min\u001b[39;00m \u001b[38;5;28mrange\u001b[39m(nb_steps):\n\u001b[0;32m     48\u001b[0m     jacobian_b \u001b[38;5;241m=\u001b[39m jacobian_batch(model, adversarial_batch) \u001b[38;5;66;03m# jacobian_b has shape [B, nb_classes, CxHxW] # jacobian needs B, this could be streamlined.\u001b[39;00m\n\u001b[1;32m---> 49\u001b[0m     J_pinv \u001b[38;5;241m=\u001b[39m \u001b[43mtorch\u001b[49m\u001b[38;5;241;43m.\u001b[39;49m\u001b[43mlinalg\u001b[49m\u001b[38;5;241;43m.\u001b[39;49m\u001b[43mpinv\u001b[49m\u001b[43m(\u001b[49m\u001b[43mjacobian_b\u001b[49m\u001b[43m)\u001b[49m \u001b[38;5;66;03m# [B, CxHxW, nb_classes]\u001b[39;00m\n\u001b[0;32m     50\u001b[0m     flips \u001b[38;5;241m=\u001b[39m flipping_vector(model, adversarial_batch, attacked_class\u001b[38;5;241m=\u001b[39mattacked_class) \u001b[38;5;66;03m# [B, c] (B flipping vectors) #this also needs B\u001b[39;00m\n\u001b[0;32m     51\u001b[0m     attack \u001b[38;5;241m=\u001b[39m torch\u001b[38;5;241m.\u001b[39mbmm(J_pinv, flips\u001b[38;5;241m.\u001b[39munsqueeze(\u001b[38;5;241m2\u001b[39m)) \u001b[38;5;66;03m# Add unsqueeze to flips; dim [B,c] -> [B, c, 1]. Attack has shape [B, CxHxW, 1]\u001b[39;00m\n",
      "\u001b[1;31mKeyboardInterrupt\u001b[0m: "
     ]
    }
   ],
   "source": [
    "import torch\n",
    "from tqdm.auto import tqdm                # pip install tqdm if you don’t have it\n",
    "\n",
    "# -----------------------------------------------------------\n",
    "# 0.  Setup\n",
    "# -----------------------------------------------------------\n",
    "device = next(model.parameters()).device      # 'cuda:0' or 'cpu'\n",
    "\n",
    "nb_step_grid      = range(1, 101, 10)             # 1 … 100\n",
    "total_budget_grid = range(3, 11, 2)              # 3 … 10\n",
    "n_settings        = len(nb_step_grid) * len(total_budget_grid)\n",
    "\n",
    "n_images  = len(testloader.dataset)\n",
    "n_classes = 10                                 # you said 10 classes\n",
    "\n",
    "# -----------------------------------------------------------\n",
    "# 1.  Pre‑allocate storage\n",
    "# -----------------------------------------------------------\n",
    "all_logits = torch.empty(\n",
    "    len(nb_step_grid), len(total_budget_grid), n_images, n_classes,\n",
    "    dtype=torch.float32, device=device\n",
    ")\n",
    "correct = torch.zeros(len(nb_step_grid), len(total_budget_grid),\n",
    "                      dtype=torch.int32, device=device)\n",
    "total   = torch.zeros_like(correct)\n",
    "\n",
    "# -----------------------------------------------------------\n",
    "# 2.  Main evaluation loop with progress\n",
    "# -----------------------------------------------------------\n",
    "with torch.no_grad():\n",
    "    global_idx = 0\n",
    "\n",
    "    # Outer bar: iterate once over the test set\n",
    "    for batch_idx, (images, labels) in enumerate(\n",
    "            tqdm(testloader, desc=\"Batches\", position=0)):\n",
    "\n",
    "        images, labels = images.to(device), labels.to(device)\n",
    "        batch_size     = images.size(0)\n",
    "\n",
    "        # Nested bars for the hyper‑parameter sweep\n",
    "        for i_nb, nb_steps in enumerate(\n",
    "                tqdm(nb_step_grid, desc=\"nb_steps\", position=1, leave=False)):\n",
    "\n",
    "            for j_tb, total_budget in enumerate(\n",
    "                    tqdm(total_budget_grid, desc=\"budget\", position=2, leave=False)):\n",
    "\n",
    "                adv_images = utils.ocf_attack(model, images, attacked_class=2,\n",
    "                                        nb_steps=nb_steps,\n",
    "                                        total_budget=total_budget)\n",
    "\n",
    "                logits = model(adv_images)\n",
    "\n",
    "                # Store logits\n",
    "                all_logits[i_nb, j_tb,\n",
    "                           global_idx:global_idx + batch_size] = logits\n",
    "\n",
    "                # Update accuracy counters\n",
    "                preds = logits.argmax(dim=1)\n",
    "                correct[i_nb, j_tb] += (preds == labels).sum().to(correct.dtype)\n",
    "                total[i_nb,  j_tb]  += torch.tensor(batch_size, dtype=correct.dtype,\n",
    "                                                    device=device)\n",
    "\n",
    "        global_idx += batch_size\n",
    "\n",
    "        # ---- quick console feedback every 10 batches ---------------------------\n",
    "        if (batch_idx + 1) % 10 == 0 or (batch_idx + 1) == len(testloader):\n",
    "            print(f\"Processed {global_idx}/{n_images} images \"\n",
    "                  f\"({(100*global_idx/n_images):.1f} %)\")\n",
    "\n",
    "# -----------------------------------------------------------\n",
    "# 3.  Compute accuracy\n",
    "# -----------------------------------------------------------\n",
    "accuracy = correct.float() / total\n",
    "print(\"\\nSweep finished!\")\n",
    "print(\"Accuracy grid shape:\", accuracy.shape)    # should be (100, 8)\n"
   ]
  }
 ],
 "metadata": {
  "kernelspec": {
   "display_name": "EntornoDL",
   "language": "python",
   "name": "python3"
  },
  "language_info": {
   "codemirror_mode": {
    "name": "ipython",
    "version": 3
   },
   "file_extension": ".py",
   "mimetype": "text/x-python",
   "name": "python",
   "nbconvert_exporter": "python",
   "pygments_lexer": "ipython3",
   "version": "3.10.12"
  }
 },
 "nbformat": 4,
 "nbformat_minor": 5
}
