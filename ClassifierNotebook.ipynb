{
 "cells": [
  {
   "cell_type": "markdown",
   "id": "e512a49d",
   "metadata": {},
   "source": [
    "# Image classifiers"
   ]
  },
  {
   "cell_type": "code",
   "execution_count": 1,
   "id": "ab88c3c6",
   "metadata": {},
   "outputs": [],
   "source": [
    "# Imports to be used through the notebook\n",
    "\n",
    "import torch \n",
    "import torchvision\n",
    "import torchvision.transforms as transforms\n",
    "\n",
    "import torch.nn as nn\n",
    "\n",
    "import matplotlib.pyplot as plt\n",
    "import numpy as np\n",
    "\n",
    "import torch.optim as optim\n",
    "import time\n",
    "\n",
    "import os, datetime\n",
    "\n",
    "import utils"
   ]
  },
  {
   "cell_type": "code",
   "execution_count": 3,
   "id": "76d39101",
   "metadata": {},
   "outputs": [
    {
     "name": "stdout",
     "output_type": "stream",
     "text": [
      "cuda:0\n"
     ]
    }
   ],
   "source": [
    "device = torch.device('cuda:0' if torch.cuda.is_available() else 'cpu')\n",
    "\n",
    "print(device)"
   ]
  },
  {
   "cell_type": "markdown",
   "id": "1523ef60",
   "metadata": {},
   "source": [
    "## Data (MNIST)"
   ]
  },
  {
   "cell_type": "code",
   "execution_count": 4,
   "id": "8f230f32",
   "metadata": {},
   "outputs": [],
   "source": [
    "# We define a transformation to apply to the items of the dataset (that are, by default, in PIL image format). The standardization will help with training.\n",
    "\n",
    "MEAN_MNIST = (0.1307,)\n",
    "STD_MNIST = (0.3081,)\n",
    "\n",
    "transform_mnist = transforms.Compose([\n",
    "    transforms.ToTensor(),\n",
    "    transforms.Normalize(MEAN_MNIST, STD_MNIST)])\n",
    "\n",
    "\n",
    "trainset = torchvision.datasets.MNIST(root='C:\\\\Users\\\\PabloHueso\\\\OneDrive - CompoSistemas, S.L\\\\Documents\\\\Master\\\\M2\\\\ENAC\\\\Adversarial-attacks\\\\Datasets', train=True,\n",
    "                                        download=True, transform=transform_mnist)\n",
    "\n",
    "testset = torchvision.datasets.MNIST(root='C:\\\\Users\\\\PabloHueso\\\\OneDrive - CompoSistemas, S.L\\\\Documents\\\\Master\\\\M2\\\\ENAC\\\\Adversarial-attacks\\\\Datasets', train=False,\n",
    "                                       download=True, transform=transform_mnist)\n",
    "\n",
    "\n",
    "#trainset.__len__() # yields 60000\n",
    "#trainset.__getitem__(0) # tuple (image, class); image is a tensor 1x28x28 and class is an int\n",
    "#trainset.__getitem__(0)[0].shape #yields torch.Size([1, 28, 28])"
   ]
  },
  {
   "cell_type": "code",
   "execution_count": 5,
   "id": "28556f4a",
   "metadata": {},
   "outputs": [
    {
     "name": "stdout",
     "output_type": "stream",
     "text": [
      "Size train loader:  1875  | test loader:  313\n"
     ]
    }
   ],
   "source": [
    "# Trainloaders are dataset wrappers used to access them in a batched way. Of course this is very useful for NN training.\n",
    "batch_size = 32\n",
    "\n",
    "trainloader = torch.utils.data.DataLoader(trainset, batch_size=batch_size,\n",
    "                                          shuffle=True, num_workers=2)\n",
    "\n",
    "testloader = torch.utils.data.DataLoader(testset, batch_size=batch_size,\n",
    "                                         shuffle=False, num_workers=2)\n",
    "\n",
    "print(\"Size train loader: \", len(trainloader), \" | test loader: \", len(testloader))"
   ]
  },
  {
   "cell_type": "code",
   "execution_count": 6,
   "id": "4011dce3",
   "metadata": {},
   "outputs": [
    {
     "data": {
      "image/png": "[encoded data removed]",
      "text/plain": [
       "<Figure size 640x480 with 1 Axes>"
      ]
     },
     "metadata": {},
     "output_type": "display_data"
    },
    {
     "name": "stdout",
     "output_type": "stream",
     "text": [
      "Labels:      6             5             9             7 \n",
      "\n",
      "Image shape (number of channels, height, width): (1, 28, 28)\n"
     ]
    }
   ],
   "source": [
    "# functions to show an image\n",
    "def imshow(img):\n",
    "    img = img * STD_MNIST[0] + MEAN_MNIST[0]  # Proper unnormalize\n",
    "    npimg = img.numpy()\n",
    "    plt.imshow(np.transpose(npimg, (1, 2, 0)), cmap='gray')  # MNIST is grayscale + original tensor shape is (1,28,28) so  np.transpose(img, (1, 2, 0)) gets it to shape (28,28,1) \n",
    "    plt.show()\n",
    "\n",
    "# get some random training images\n",
    "dataiter = iter(trainloader)\n",
    "images, labels = next(dataiter)  # batches are lists of two tensors, one containing features and other labels.\n",
    "images, labels = images[:4], labels[:4] \n",
    "\n",
    "# show images\n",
    "imshow(torchvision.utils.make_grid(images))\n",
    "# print labels\n",
    "print('Labels:     ','             '.join(f'{labels[j]}' for j in range(4)), '\\n')\n",
    "print(f'Image shape (number of channels, height, width): {tuple(images[0].shape)}')"
   ]
  },
  {
   "cell_type": "markdown",
   "id": "79fd06b6",
   "metadata": {},
   "source": [
    "## Load model\n"
   ]
  },
  {
   "cell_type": "code",
   "execution_count": 7,
   "id": "630ea122",
   "metadata": {},
   "outputs": [
    {
     "data": {
      "text/plain": [
       "SimpleCNN(\n",
       "  (conv): Conv2d(1, 10, kernel_size=(3, 3), stride=(1, 1))\n",
       "  (pool): MaxPool2d(kernel_size=2, stride=2, padding=0, dilation=1, ceil_mode=False)\n",
       "  (fc): Linear(in_features=1690, out_features=10, bias=True)\n",
       ")"
      ]
     },
     "execution_count": 7,
     "metadata": {},
     "output_type": "execute_result"
    }
   ],
   "source": [
    "import archis\n",
    "model = archis.SimpleCNN(input_channels=1, output_channels=10)\n",
    "model.load_state_dict(torch.load('Models\\MNISTsmall.pth'))\n",
    "model.to(device)\n",
    "model.eval()"
   ]
  },
  {
   "cell_type": "markdown",
   "id": "d1c20446",
   "metadata": {},
   "source": [
    "## Example of attack"
   ]
  },
  {
   "cell_type": "code",
   "execution_count": 8,
   "id": "70ca8641",
   "metadata": {},
   "outputs": [],
   "source": [
    "x_batch, y_batch = next(iter(trainloader)) #x_batch is of dimension [B, C, H, W] = [512, 1, 28, 28]. Elements of it (like x_batch[0]) are of dimension [C, H, W] = [1, 28, 28].\n",
    "x_single = x_batch[0].unsqueeze(0)  # Add batch dimension back (shape: [1, C, H, W])\n",
    "\n",
    "\n",
    "x_single = x_single.to(device)\n",
    "output = model(x_single)\n",
    "\n",
    "x_batch = x_batch.to(device)"
   ]
  },
  {
   "cell_type": "markdown",
   "id": "49647cef",
   "metadata": {},
   "source": [
    "## Attack testing"
   ]
  },
  {
   "cell_type": "markdown",
   "id": "4be007c8",
   "metadata": {},
   "source": [
    "### Loop"
   ]
  },
  {
   "cell_type": "code",
   "execution_count": null,
   "id": "14454cc3",
   "metadata": {},
   "outputs": [
    {
     "data": {
      "application/vnd.jupyter.widget-view+json": {
       "model_id": "6aafc1098c8244a998336c2e094a9dc6",
       "version_major": 2,
       "version_minor": 0
      },
      "text/plain": [
       "Batches:   0%|          | 0/313 [00:00<?, ?it/s]"
      ]
     },
     "metadata": {},
     "output_type": "display_data"
    },
    {
     "data": {
      "application/vnd.jupyter.widget-view+json": {
       "model_id": "32a28728e82a45cebb2cbc0ce72f5fb7",
       "version_major": 2,
       "version_minor": 0
      },
      "text/plain": [
       "nb_steps:   0%|          | 0/10 [00:00<?, ?it/s]"
      ]
     },
     "metadata": {},
     "output_type": "display_data"
    },
    {
     "data": {
      "application/vnd.jupyter.widget-view+json": {
       "model_id": "b677a6949ade40d49d8417b2dbfdc4d6",
       "version_major": 2,
       "version_minor": 0
      },
      "text/plain": [
       "budget:   0%|          | 0/4 [00:00<?, ?it/s]"
      ]
     },
     "metadata": {},
     "output_type": "display_data"
    },
    {
     "data": {
      "application/vnd.jupyter.widget-view+json": {
       "model_id": "02d155a02d454b34a258f93823fe3377",
       "version_major": 2,
       "version_minor": 0
      },
      "text/plain": [
       "budget:   0%|          | 0/4 [00:00<?, ?it/s]"
      ]
     },
     "metadata": {},
     "output_type": "display_data"
    },
    {
     "data": {
      "application/vnd.jupyter.widget-view+json": {
       "model_id": "269744a1271a47bd91efeae4df9d66c2",
       "version_major": 2,
       "version_minor": 0
      },
      "text/plain": [
       "budget:   0%|          | 0/4 [00:00<?, ?it/s]"
      ]
     },
     "metadata": {},
     "output_type": "display_data"
    },
    {
     "ename": "KeyboardInterrupt",
     "evalue": "",
     "output_type": "error",
     "traceback": [
      "\u001b[1;31m---------------------------------------------------------------------------\u001b[0m",
      "\u001b[1;31mKeyboardInterrupt\u001b[0m                         Traceback (most recent call last)",
      "Cell \u001b[1;32mIn[17], line 47\u001b[0m\n\u001b[0;32m     41\u001b[0m \u001b[38;5;28;01mfor\u001b[39;00m i_nb, nb_steps \u001b[38;5;129;01min\u001b[39;00m \u001b[38;5;28menumerate\u001b[39m(\n\u001b[0;32m     42\u001b[0m         tqdm(nb_step_grid, desc\u001b[38;5;241m=\u001b[39m\u001b[38;5;124m\"\u001b[39m\u001b[38;5;124mnb_steps\u001b[39m\u001b[38;5;124m\"\u001b[39m, position\u001b[38;5;241m=\u001b[39m\u001b[38;5;241m1\u001b[39m, leave\u001b[38;5;241m=\u001b[39m\u001b[38;5;28;01mFalse\u001b[39;00m)):\n\u001b[0;32m     44\u001b[0m     \u001b[38;5;28;01mfor\u001b[39;00m j_tb, total_budget \u001b[38;5;129;01min\u001b[39;00m \u001b[38;5;28menumerate\u001b[39m(\n\u001b[0;32m     45\u001b[0m             tqdm(total_budget_grid, desc\u001b[38;5;241m=\u001b[39m\u001b[38;5;124m\"\u001b[39m\u001b[38;5;124mbudget\u001b[39m\u001b[38;5;124m\"\u001b[39m, position\u001b[38;5;241m=\u001b[39m\u001b[38;5;241m2\u001b[39m, leave\u001b[38;5;241m=\u001b[39m\u001b[38;5;28;01mFalse\u001b[39;00m)):\n\u001b[1;32m---> 47\u001b[0m         adv_images \u001b[38;5;241m=\u001b[39m \u001b[43mutils\u001b[49m\u001b[38;5;241;43m.\u001b[39;49m\u001b[43mocf_attack\u001b[49m\u001b[43m(\u001b[49m\u001b[43mmodel\u001b[49m\u001b[43m,\u001b[49m\u001b[43m \u001b[49m\u001b[43mimages\u001b[49m\u001b[43m,\u001b[49m\u001b[43m \u001b[49m\u001b[43mattacked_class\u001b[49m\u001b[38;5;241;43m=\u001b[39;49m\u001b[38;5;241;43m2\u001b[39;49m\u001b[43m,\u001b[49m\n\u001b[0;32m     48\u001b[0m \u001b[43m                                \u001b[49m\u001b[43mnb_steps\u001b[49m\u001b[38;5;241;43m=\u001b[39;49m\u001b[43mnb_steps\u001b[49m\u001b[43m,\u001b[49m\n\u001b[0;32m     49\u001b[0m \u001b[43m                                \u001b[49m\u001b[43mtotal_budget\u001b[49m\u001b[38;5;241;43m=\u001b[39;49m\u001b[43mtotal_budget\u001b[49m\u001b[43m)\u001b[49m\n\u001b[0;32m     51\u001b[0m         logits \u001b[38;5;241m=\u001b[39m model(adv_images)\n\u001b[0;32m     53\u001b[0m         \u001b[38;5;66;03m# Store logits\u001b[39;00m\n",
      "File \u001b[1;32mc:\\Users\\PabloHueso\\OneDrive - CompoSistemas, S.L\\Documents\\Master\\M2\\ENAC\\Adversarial-attacks\\utils.py:49\u001b[0m, in \u001b[0;36mocf_attack\u001b[1;34m(model, batch, attacked_class, nb_steps, total_budget)\u001b[0m\n\u001b[0;32m     47\u001b[0m \u001b[38;5;28;01mfor\u001b[39;00m i \u001b[38;5;129;01min\u001b[39;00m \u001b[38;5;28mrange\u001b[39m(nb_steps):\n\u001b[0;32m     48\u001b[0m     jacobian_b \u001b[38;5;241m=\u001b[39m jacobian_batch(model, adversarial_batch) \u001b[38;5;66;03m# jacobian_b has shape [B, nb_classes, CxHxW] # jacobian needs B, this could be streamlined.\u001b[39;00m\n\u001b[1;32m---> 49\u001b[0m     J_pinv \u001b[38;5;241m=\u001b[39m \u001b[43mtorch\u001b[49m\u001b[38;5;241;43m.\u001b[39;49m\u001b[43mlinalg\u001b[49m\u001b[38;5;241;43m.\u001b[39;49m\u001b[43mpinv\u001b[49m\u001b[43m(\u001b[49m\u001b[43mjacobian_b\u001b[49m\u001b[43m)\u001b[49m \u001b[38;5;66;03m# [B, CxHxW, nb_classes]\u001b[39;00m\n\u001b[0;32m     50\u001b[0m     flips \u001b[38;5;241m=\u001b[39m flipping_vector(model, adversarial_batch, attacked_class\u001b[38;5;241m=\u001b[39mattacked_class) \u001b[38;5;66;03m# [B, c] (B flipping vectors) #this also needs B\u001b[39;00m\n\u001b[0;32m     51\u001b[0m     attack \u001b[38;5;241m=\u001b[39m torch\u001b[38;5;241m.\u001b[39mbmm(J_pinv, flips\u001b[38;5;241m.\u001b[39munsqueeze(\u001b[38;5;241m2\u001b[39m)) \u001b[38;5;66;03m# Add unsqueeze to flips; dim [B,c] -> [B, c, 1]. Attack has shape [B, CxHxW, 1]\u001b[39;00m\n",
      "\u001b[1;31mKeyboardInterrupt\u001b[0m: "
     ]
    }
   ],
   "source": [
    "import torch\n",
    "from tqdm.auto import tqdm                \n",
    "\n",
    "# -----------------------------------------------------------\n",
    "# 0.  Setup\n",
    "# -----------------------------------------------------------\n",
    "device = next(model.parameters()).device      # 'cuda:0' or 'cpu'\n",
    "\n",
    "nb_step_grid      = range(1, 101, 10)             # 1 … 100\n",
    "total_budget_grid = range(3, 11, 2)              # 3 … 10\n",
    "n_settings        = len(nb_step_grid) * len(total_budget_grid)\n",
    "\n",
    "n_images  = len(testloader.dataset)\n",
    "n_classes = 10                                 # 10 for MNIST, adapt this later\n",
    "\n",
    "# -----------------------------------------------------------\n",
    "# 1.  Pre‑allocate storage\n",
    "# -----------------------------------------------------------\n",
    "all_logits = torch.empty(\n",
    "    len(nb_step_grid), len(total_budget_grid), n_images, n_classes,\n",
    "    dtype=torch.float32, device=device\n",
    ")\n",
    "correct = torch.zeros(len(nb_step_grid), len(total_budget_grid),\n",
    "                      dtype=torch.int32, device=device)\n",
    "total   = torch.zeros_like(correct)\n",
    "\n",
    "# -----------------------------------------------------------\n",
    "# 2.  Main evaluation loop with progress\n",
    "# -----------------------------------------------------------\n",
    "with torch.no_grad():\n",
    "    global_idx = 0\n",
    "\n",
    "    # Outer bar: iterate once over the test set\n",
    "    for batch_idx, (images, labels) in enumerate(\n",
    "            tqdm(testloader, desc=\"Batches\", position=0)):\n",
    "\n",
    "        images, labels = images.to(device), labels.to(device)\n",
    "        batch_size     = images.size(0)\n",
    "\n",
    "        # Nested bars for the hyper‑parameter sweep\n",
    "        for i_nb, nb_steps in enumerate(\n",
    "                tqdm(nb_step_grid, desc=\"nb_steps\", position=1, leave=False)):\n",
    "\n",
    "            for j_tb, total_budget in enumerate(\n",
    "                    tqdm(total_budget_grid, desc=\"budget\", position=2, leave=False)):\n",
    "\n",
    "                adv_images = utils.ocf_attack(model, images, attacked_class=2,\n",
    "                                        nb_steps=nb_steps,\n",
    "                                        total_budget=total_budget)\n",
    "\n",
    "                logits = model(adv_images)\n",
    "\n",
    "                # Store logits\n",
    "                all_logits[i_nb, j_tb,\n",
    "                           global_idx:global_idx + batch_size] = logits\n",
    "\n",
    "                # Update accuracy counters\n",
    "                preds = logits.argmax(dim=1)\n",
    "                correct[i_nb, j_tb] += (preds == labels).sum().to(correct.dtype)\n",
    "                total[i_nb,  j_tb]  += torch.tensor(batch_size, dtype=correct.dtype,\n",
    "                                                    device=device)\n",
    "\n",
    "        global_idx += batch_size\n",
    "        '''\n",
    "        # ---- quick console feedback every 10 batches ---------------------------\n",
    "        if (batch_idx + 1) % 10 == 0 or (batch_idx + 1) == len(testloader):\n",
    "            print(f\"Processed {global_idx}/{n_images} images \"\n",
    "                  f\"({(100*global_idx/n_images):.1f} %)\")\n",
    "        '''\n",
    "# -----------------------------------------------------------\n",
    "# 3.  Compute accuracy\n",
    "# -----------------------------------------------------------\n",
    "accuracy = correct.float() / total\n",
    "print(\"\\nSweep finished!\")\n",
    "print(\"Accuracy grid shape:\", accuracy.shape)    # should be (100, 8)\n",
    "\n",
    "# 4‑A.  Make a results folder\n",
    "os.makedirs(\"results\", exist_ok=True)\n",
    "\n",
    "# 4‑B.  Build a nice filename with a timestamp\n",
    "timestamp = datetime.datetime.now().strftime(\"%Y%m%d_%H%M%S\")\n",
    "ckpt_path = f\"results/adv_sweep_{timestamp}.pt\"\n",
    "\n",
    "# 4‑C.  Move tensors to CPU and (optionally) cast to half to save space\n",
    "ckpt = {\n",
    "    \"logits\"        : all_logits.cpu(),              # or .half() to halve size\n",
    "    \"correct\"       : correct.cpu(),\n",
    "    \"total\"         : total.cpu(),\n",
    "    \"accuracy\"      : accuracy.cpu(),\n",
    "    \"nb_steps\"      : torch.tensor(list(nb_step_grid)),\n",
    "    \"total_budgets\" : torch.tensor(list(total_budget_grid)),\n",
    "}\n",
    "\n",
    "torch.save(ckpt, ckpt_path)\n",
    "print(f\"\\n✔ Saved checkpoint to: {ckpt_path}\")\n"
   ]
  },
  {
   "cell_type": "markdown",
   "id": "53ceea14",
   "metadata": {},
   "source": [
    "### Result visualization"
   ]
  },
  {
   "cell_type": "code",
   "execution_count": 18,
   "id": "756db782",
   "metadata": {},
   "outputs": [
    {
     "name": "stdout",
     "output_type": "stream",
     "text": [
      "Loading results\\adv_sweep_20250513_142543.pt\n"
     ]
    },
    {
     "data": {
      "image/png": "[encoded data removed]",
      "text/plain": [
       "<Figure size 600x500 with 2 Axes>"
      ]
     },
     "metadata": {},
     "output_type": "display_data"
    }
   ],
   "source": [
    "import os, torch, matplotlib.pyplot as plt, numpy as np\n",
    "\n",
    "# -----------------------------------------------------------\n",
    "# 1.  Locate the newest checkpoint\n",
    "# -----------------------------------------------------------\n",
    "ckpt_path = \"results\"                     # adjust if needed\n",
    "files = [f for f in os.listdir(ckpt_path) if f.endswith(\".pt\")]\n",
    "assert files, \"No .pt files found - check ckpt_path!\"\n",
    "\n",
    "latest     = max(files, key=lambda f: os.path.getmtime(os.path.join(ckpt_path, f)))\n",
    "ckpt_file  = os.path.join(ckpt_path, latest)\n",
    "print(\"Loading\", ckpt_file)\n",
    "\n",
    "# -----------------------------------------------------------\n",
    "# 2.  Load the accuracy grid & axes \n",
    "# -----------------------------------------------------------\n",
    "ckpt      = torch.load(ckpt_file, map_location=\"cpu\")\n",
    "accuracy  = ckpt[\"accuracy\"].numpy()                # shape (len(nb_steps) × len(budgets))\n",
    "nb_steps  = ckpt[\"nb_steps\"].numpy()                # e.g. [1, 11, … , 91]\n",
    "budgets   = ckpt[\"total_budgets\"].numpy()           # e.g. [3, 5, 7, 9]\n",
    "\n",
    "# -----------------------------------------------------------\n",
    "# 3.  Plot a heat‑map\n",
    "# -----------------------------------------------------------\n",
    "plt.figure(figsize=(6, 5))\n",
    "plt.imshow(accuracy, aspect='auto', origin='lower')     # default colormap\n",
    "plt.colorbar(label=\"Accuracy\")\n",
    "plt.xticks(ticks=np.arange(len(budgets)),  labels=budgets)\n",
    "plt.yticks(ticks=np.arange(len(nb_steps)), labels=nb_steps)\n",
    "plt.xlabel(\"Total Budget\")\n",
    "plt.ylabel(\"Number of Steps\")\n",
    "plt.title(\"Classifier Accuracy under ocf_attack Sweep\")\n",
    "plt.tight_layout()\n",
    "plt.show()"
   ]
  },
  {
   "cell_type": "markdown",
   "id": "44d1ffad",
   "metadata": {},
   "source": [
    "## Experiment zone"
   ]
  },
  {
   "cell_type": "code",
   "execution_count": 32,
   "id": "52577aa9",
   "metadata": {},
   "outputs": [],
   "source": [
    "# Verifying that ocf_attack_pure() works. It does (hell yeah)\n"
   ]
  },
  {
   "cell_type": "markdown",
   "id": "32944664",
   "metadata": {},
   "source": [
    "## Variations of the attack"
   ]
  },
  {
   "cell_type": "markdown",
   "id": "bba4c463",
   "metadata": {},
   "source": [
    "### Is step norm manipulation detrimental for the attack? \n",
    "Different approach: estimate the number of necessary steps necessary to fool network and take that many unnormalized steps"
   ]
  },
  {
   "cell_type": "code",
   "execution_count": 10,
   "id": "6bf60cc6",
   "metadata": {},
   "outputs": [],
   "source": [
    "def performance_over_batch(model, attack, batch):\n",
    "    model_ouput = model(batch)\n",
    "    model_ouput_adv  = model(attack(model, batch))\n",
    "    perturbations = model_ouput_adv - model_ouput\n",
    "    norms = torch.linalg.norm(utils.flat(perturbations), ord='fro', dim=(-2, -1))\n",
    "    pred = model_ouput.argmax(dim=1)\n",
    "    pred_adv = model_ouput_adv.argmax(dim=1)\n",
    "    flipped = pred != pred_adv\n",
    "    return model_ouput, model_ouput_adv, perturbations, norms, flipped"
   ]
  },
  {
   "cell_type": "code",
   "execution_count": 11,
   "id": "211dd026",
   "metadata": {},
   "outputs": [],
   "source": [
    "def show_attack_example(model, attack, batch, idx=0):\n",
    "    model.eval()                              # for safety\n",
    "    # 1. Run the attack once\n",
    "    adversarial = attack(model, batch)        # shape [B, 1, H, W]\n",
    "    \n",
    "    # 2. Get logits and norms via your helper\n",
    "    out, out_adv, _, _, flipped = performance_over_batch(model, attack, batch)\n",
    "\n",
    "    # 3. Derive image perturbations & their Frobenius norms\n",
    "    perturbations = adversarial - batch                      # [B,1,H,W]\n",
    "    norms = perturbations.view(len(batch), -1).norm(dim=1)   # [B]\n",
    "\n",
    "    # -------- pick the sample we’ll display -------------------------------\n",
    "    img      = batch[idx].squeeze(0).cpu()\n",
    "    pert     = perturbations[idx].squeeze(0).cpu()\n",
    "    img_adv  = adversarial[idx].squeeze(0).cpu()\n",
    "\n",
    "    pred_orig = out[idx].argmax().item()\n",
    "    pred_adv  = out_adv[idx].argmax().item()\n",
    "\n",
    "    # -------- plot ---------------------------------------------------------\n",
    "    import matplotlib.pyplot as plt\n",
    "    fig, ax = plt.subplots(1, 3, figsize=(10, 3))\n",
    "    for a in ax: a.axis(\"off\")\n",
    "\n",
    "    ax[0].matshow(img)\n",
    "    ax[0].set_title(f\"Original\\npred={pred_orig}\")\n",
    "\n",
    "    ax[1].matshow(pert)\n",
    "    ax[1].set_title(\"Perturbation\")\n",
    "\n",
    "    ax[2].matshow(img_adv)\n",
    "    ax[2].set_title(f\"Adversarial\\npred={pred_adv}\")\n",
    "\n",
    "    fig.suptitle(f\"‖perturbation‖₍Fro₎ = {norms[idx]:.4f}\", y=1.05)\n",
    "    plt.tight_layout()\n",
    "    plt.show()\n",
    "\n",
    "    # -------- batch-level statistics --------------------------------------\n",
    "    print(\"Batch statistics (Frobenius norm of perturbations)\")\n",
    "    print(f\"  min  : {norms.min().item():.4f}\")\n",
    "    print(f\"  max  : {norms.max().item():.4f}\")\n",
    "    print(f\"  mean : {norms.mean().item():.4f}\")\n",
    "    print(f\"  std  : {norms.std().item():.4f}\")\n",
    "    print(flipped.sum())\n"
   ]
  },
  {
   "cell_type": "code",
   "execution_count": 12,
   "id": "1399457f",
   "metadata": {},
   "outputs": [
    {
     "data": {
      "image/png": "[encoded data removed]",
      "text/plain": [
       "<Figure size 1000x300 with 3 Axes>"
      ]
     },
     "metadata": {},
     "output_type": "display_data"
    },
    {
     "name": "stdout",
     "output_type": "stream",
     "text": [
      "Batch statistics (Frobenius norm of perturbations)\n",
      "  min  : 0.6193\n",
      "  max  : 3.1755\n",
      "  mean : 1.8805\n",
      "  std  : 0.6287\n",
      "tensor(32, device='cuda:0')\n"
     ]
    }
   ],
   "source": [
    "with torch.no_grad():\n",
    "    show_attack_example(model, utils.ocf_attack_until_flip, x_batch, idx=5)"
   ]
  }
 ],
 "metadata": {
  "kernelspec": {
   "display_name": "EntornoDL",
   "language": "python",
   "name": "python3"
  },
  "language_info": {
   "codemirror_mode": {
    "name": "ipython",
    "version": 3
   },
   "file_extension": ".py",
   "mimetype": "text/x-python",
   "name": "python",
   "nbconvert_exporter": "python",
   "pygments_lexer": "ipython3",
   "version": "3.10.12"
  }
 },
 "nbformat": 4,
 "nbformat_minor": 5
}
