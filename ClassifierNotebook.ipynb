{
 "cells": [
  {
   "cell_type": "markdown",
   "id": "e512a49d",
   "metadata": {},
   "source": [
    "# Image classifiers"
   ]
  },
  {
   "cell_type": "code",
   "execution_count": 1,
   "id": "ab88c3c6",
   "metadata": {},
   "outputs": [],
   "source": [
    "# Imports to be used through the notebook\n",
    "\n",
    "import torch \n",
    "import torchvision\n",
    "import torchvision.transforms as transforms\n",
    "\n",
    "import torch.nn as nn\n",
    "\n",
    "import matplotlib.pyplot as plt\n",
    "import numpy as np\n",
    "\n",
    "import torch.optim as optim\n",
    "import time"
   ]
  },
  {
   "cell_type": "code",
   "execution_count": 2,
   "id": "76d39101",
   "metadata": {},
   "outputs": [
    {
     "name": "stdout",
     "output_type": "stream",
     "text": [
      "cuda:0\n"
     ]
    }
   ],
   "source": [
    "import torch \n",
    "\n",
    "device = torch.device('cuda:0' if torch.cuda.is_available() else 'cpu')\n",
    "\n",
    "print(device)"
   ]
  },
  {
   "cell_type": "markdown",
   "id": "1523ef60",
   "metadata": {},
   "source": [
    "## Data (MNIST)"
   ]
  },
  {
   "cell_type": "code",
   "execution_count": 3,
   "id": "8f230f32",
   "metadata": {},
   "outputs": [],
   "source": [
    "# We define a transformation to apply to the items of the dataset (that are, by default, in PIL image format). The standardization will help with training.\n",
    "\n",
    "MEAN_MNIST = (0.1307,)\n",
    "STD_MNIST = (0.3081,)\n",
    "\n",
    "transform_mnist = transforms.Compose([\n",
    "    transforms.ToTensor(),\n",
    "    transforms.Normalize(MEAN_MNIST, STD_MNIST)])\n",
    "\n",
    "\n",
    "trainset = torchvision.datasets.MNIST(root='C:\\\\Users\\\\PabloHueso\\\\OneDrive - CompoSistemas, S.L\\\\Documents\\\\Master\\\\M2\\\\ENAC\\\\Adversarial-attacks\\\\Datasets', train=True,\n",
    "                                        download=True, transform=transform_mnist)\n",
    "\n",
    "testset = torchvision.datasets.MNIST(root='C:\\\\Users\\\\PabloHueso\\\\OneDrive - CompoSistemas, S.L\\\\Documents\\\\Master\\\\M2\\\\ENAC\\\\Adversarial-attacks\\\\Datasets', train=False,\n",
    "                                       download=True, transform=transform_mnist)\n",
    "\n",
    "\n",
    "#trainset.__len__() # yields 60000\n",
    "#trainset.__getitem__(0) # tuple (image, class); image is a tensor 1x28x28 and class is an int\n",
    "#trainset.__getitem__(0)[0].shape #yields torch.Size([1, 28, 28])"
   ]
  },
  {
   "cell_type": "code",
   "execution_count": 4,
   "id": "28556f4a",
   "metadata": {},
   "outputs": [
    {
     "name": "stdout",
     "output_type": "stream",
     "text": [
      "Size train loader:  1875  | test loader:  313\n"
     ]
    }
   ],
   "source": [
    "# Trainloaders are dataset wrappers used to access them in a batched way. Of course this is very useful for NN training.\n",
    "batch_size = 32\n",
    "\n",
    "trainloader = torch.utils.data.DataLoader(trainset, batch_size=batch_size,\n",
    "                                          shuffle=True, num_workers=2)\n",
    "\n",
    "testloader = torch.utils.data.DataLoader(testset, batch_size=batch_size,\n",
    "                                         shuffle=False, num_workers=2)\n",
    "\n",
    "print(\"Size train loader: \", len(trainloader), \" | test loader: \", len(testloader))"
   ]
  },
  {
   "cell_type": "code",
   "execution_count": 5,
   "id": "67044aae",
   "metadata": {},
   "outputs": [],
   "source": [
    "batch = next(iter(trainloader)) # batches are lists of two tensors, one containing features and other labels."
   ]
  },
  {
   "cell_type": "code",
   "execution_count": 6,
   "id": "4011dce3",
   "metadata": {},
   "outputs": [
    {
     "data": {
      "image/png": "[encoded data removed]",
      "text/plain": [
       "<Figure size 640x480 with 1 Axes>"
      ]
     },
     "metadata": {},
     "output_type": "display_data"
    },
    {
     "name": "stdout",
     "output_type": "stream",
     "text": [
      "Labels:      8             9             6             8 \n",
      "\n",
      "Image shape (number of channels, height, width): (1, 28, 28)\n"
     ]
    }
   ],
   "source": [
    "# functions to show an image\n",
    "def imshow(img):\n",
    "    img = img * STD_MNIST[0] + MEAN_MNIST[0]  # Proper unnormalize\n",
    "    npimg = img.numpy()\n",
    "    plt.imshow(np.transpose(npimg, (1, 2, 0)), cmap='gray')  # MNIST is grayscale + original tensor shape is (1,28,28) so  np.transpose(img, (1, 2, 0)) gets it to shape (28,28,1) \n",
    "    plt.show()\n",
    "\n",
    "# get some random training images\n",
    "dataiter = iter(trainloader)\n",
    "images, labels = next(dataiter)\n",
    "images, labels = images[:4], labels[:4]\n",
    "\n",
    "# show images\n",
    "imshow(torchvision.utils.make_grid(images))\n",
    "# print labels\n",
    "print('Labels:     ','             '.join(f'{labels[j]}' for j in range(4)), '\\n')\n",
    "print(f'Image shape (number of channels, height, width): {tuple(images[0].shape)}')"
   ]
  },
  {
   "cell_type": "markdown",
   "id": "bf3e0a6b",
   "metadata": {},
   "source": [
    "## First model\n",
    "Note that this model outputs logits; not probabilities!"
   ]
  },
  {
   "cell_type": "code",
   "execution_count": 7,
   "id": "559ea274",
   "metadata": {},
   "outputs": [],
   "source": [
    "class SimpleCNN(nn.Module):\n",
    "    def __init__(self, input_channels, output_channels):\n",
    "        super().__init__()\n",
    "        self.conv = nn.Conv2d(input_channels, 10, 3)\n",
    "        self.pool = nn.MaxPool2d(2, 2)\n",
    "        self.fc = nn.Linear(1690, output_channels)\n",
    "\n",
    "    def forward(self, x):\n",
    "        # Initial shape is [B, 1, 28, 28]\n",
    "        x = self.conv(x)\n",
    "        # After convoluting, shape is [B, 10, 26, 26]\n",
    "        x = nn.ReLU()(x)\n",
    "        # After ReLU, shape is [B, 10, 26, 26] (it's an element-wise operation)\n",
    "        x = self.pool(x)\n",
    "        # After pooling, shape is [B, 10, 13, 13]\n",
    "        x = nn.Flatten()(x)\n",
    "        # After flattening shape is [B, 1690] (naturally, 1690 = 10x13x13)\n",
    "        x = self.fc(x)\n",
    "        # Final shape is [B, 10] (we have logits for 10 possible classes)\n",
    "        return x"
   ]
  },
  {
   "cell_type": "code",
   "execution_count": 8,
   "id": "7f5a05b2",
   "metadata": {},
   "outputs": [
    {
     "data": {
      "text/plain": [
       "32"
      ]
     },
     "execution_count": 8,
     "metadata": {},
     "output_type": "execute_result"
    }
   ],
   "source": [
    "len(batch[0])"
   ]
  },
  {
   "cell_type": "markdown",
   "id": "bca1eb01",
   "metadata": {},
   "source": [
    "### Training "
   ]
  },
  {
   "cell_type": "code",
   "execution_count": 9,
   "id": "b9051ce3",
   "metadata": {},
   "outputs": [],
   "source": [
    "input_channels=1\n",
    "output_shape=10\n",
    "criterion = nn.CrossEntropyLoss()\n",
    "\n",
    "\n",
    "def build_and_train_model(archi=SimpleCNN, trainloader=trainloader, input_shape=input_channels, output_shape=output_shape, optimizer=optim.SGD, criterion=criterion, device=\"cpu\", n_epochs=10, lr=0.01):\n",
    " \n",
    "  # When building a model, you assign it to a particular device by setting: model = model.to(device); device is indicated by a string, like \"cpu\" our \"cuda:0\"\n",
    "  model = archi(input_shape,output_shape).to(device)\n",
    "  optimizer = optim.SGD(model.parameters(), lr=lr, momentum=0.9)\n",
    "  for epoch in range(n_epochs):  # loop over the dataset multiple times\n",
    "    running_loss = 0.0\n",
    "    for i, (x,y) in enumerate(trainloader):\n",
    "      # Same as for the model, you have to assign a device for your inputs and your label, for example: x = x.to(device)\n",
    "      inputs, labels = x.to(device), y.to(device)\n",
    "      # zero the parameter gradients\n",
    "      optimizer.zero_grad()\n",
    "\n",
    "      # forward + backward + optimize\n",
    "      outputs = model(inputs)\n",
    "      loss = criterion(outputs, labels)\n",
    "      loss.backward()\n",
    "      optimizer.step()\n",
    "      running_loss += loss.item()\n",
    "\n",
    "    print(f'Epoch {epoch} / {n_epochs} | Loss: {running_loss / len(trainloader)}')\n",
    "    running_loss = 0.0\n",
    "  return model"
   ]
  },
  {
   "cell_type": "code",
   "execution_count": 10,
   "id": "d859cc72",
   "metadata": {},
   "outputs": [
    {
     "name": "stdout",
     "output_type": "stream",
     "text": [
      "Epoch 0 / 10 | Loss: 0.16759953777827322\n",
      "Epoch 1 / 10 | Loss: 0.07413839129395783\n",
      "Epoch 2 / 10 | Loss: 0.0589734318280903\n",
      "Epoch 3 / 10 | Loss: 0.05010383976816665\n",
      "Epoch 4 / 10 | Loss: 0.04324940722764004\n",
      "Epoch 5 / 10 | Loss: 0.03811072081507882\n",
      "Epoch 6 / 10 | Loss: 0.0340056354498025\n",
      "Epoch 7 / 10 | Loss: 0.030555203580272305\n",
      "Epoch 8 / 10 | Loss: 0.027052442680991953\n",
      "Epoch 9 / 10 | Loss: 0.02453586785098693\n",
      "Training with cuda:0 lasts: 1.93 minutes\n",
      "\n"
     ]
    }
   ],
   "source": [
    "start_time = time.time()\n",
    "model = build_and_train_model(device=device)\n",
    "print(f\"Training with {device} lasts: {np.round((time.time()-start_time)/60,2)} minutes\\n\")"
   ]
  },
  {
   "cell_type": "code",
   "execution_count": 11,
   "id": "73055ae0",
   "metadata": {},
   "outputs": [],
   "source": [
    "# Once your model has been trained, you have to evaluate it on the test set.\n",
    "def test_loop(dataloader, model, loss_fn, device):\n",
    "    model.eval()\n",
    "    test_loss, correct = 0, 0\n",
    "    with torch.no_grad():\n",
    "      for X, y in dataloader:\n",
    "          pred = model(X.to(device))\n",
    "          loss = loss_fn(pred, y.to(device)).item()\n",
    "          test_loss += loss\n",
    "          ### TODO: compute the model final prediction and the number of correct predictions.\n",
    "          # Your current output is the for each class to be the right one.\n",
    "          prediction = pred.argmax(axis=1)\n",
    "          # To compute the accuracy score, we need to know how many correct predictions we got.\n",
    "          correct += (prediction == y.to(device)).sum().item()\n",
    "          ###\n",
    "    test_loss /= len(dataloader)\n",
    "    correct /= len(dataloader.dataset)\n",
    "    print(f\"Test Error: Accuracy: {(100*correct):>0.1f}%, Avg loss: {test_loss:>8f} \\n\")\n",
    "    return test_loss"
   ]
  },
  {
   "cell_type": "code",
   "execution_count": 12,
   "id": "13a6ce8d",
   "metadata": {},
   "outputs": [
    {
     "name": "stdout",
     "output_type": "stream",
     "text": [
      "Test Error: Accuracy: 98.3%, Avg loss: 0.058284 \n",
      "\n"
     ]
    }
   ],
   "source": [
    "loss = test_loop(testloader, model, criterion, device)"
   ]
  },
  {
   "cell_type": "markdown",
   "id": "64bdf874",
   "metadata": {},
   "source": [
    "## Second model with final softmax"
   ]
  },
  {
   "cell_type": "code",
   "execution_count": null,
   "id": "136a4608",
   "metadata": {},
   "outputs": [],
   "source": [
    "class SimpleCNNprobas(nn.Module):\n",
    "    def __init__(self, input_channels, output_channels):\n",
    "        super().__init__()\n",
    "        self.conv = nn.Conv2d(input_channels, 10, 3)\n",
    "        self.pool = nn.MaxPool2d(2, 2)\n",
    "        self.fc = nn.Linear(1690, output_channels)\n",
    "\n",
    "    def forward(self, x):\n",
    "        # Initial shape is [B, 1, 28, 28]\n",
    "        x = self.conv(x)\n",
    "        # After convoluting, shape is [B, 10, 26, 26]\n",
    "        x = nn.ReLU()(x)\n",
    "        # After ReLU, shape is [B, 10, 26, 26] (it's an element-wise operation)\n",
    "        x = self.pool(x)\n",
    "        # After pooling, shape is [B, 10, 13, 13]\n",
    "        x = nn.Flatten()(x)\n",
    "        # After flattening shape is [B, 1690] (naturally, 1690 = 10x13x13)\n",
    "        x = self.fc(x)\n",
    "        # Final shape is [B, 10] (we have logits for 10 possible classes)\n",
    "        x = nn.functional.softmax(x, dim=1)   \n",
    "        # Does not change shape either\n",
    "        return x"
   ]
  },
  {
   "cell_type": "markdown",
   "id": "40fc5d03",
   "metadata": {},
   "source": [
    "### Training "
   ]
  },
  {
   "cell_type": "code",
   "execution_count": 82,
   "id": "6c380f37",
   "metadata": {},
   "outputs": [
    {
     "ename": "RuntimeError",
     "evalue": "kl_div: Integral inputs not supported.",
     "output_type": "error",
     "traceback": [
      "\u001b[1;31m---------------------------------------------------------------------------\u001b[0m",
      "\u001b[1;31mRuntimeError\u001b[0m                              Traceback (most recent call last)",
      "Cell \u001b[1;32mIn[82], line 5\u001b[0m\n\u001b[0;32m      2\u001b[0m output_shape\u001b[38;5;241m=\u001b[39m\u001b[38;5;241m10\u001b[39m\n\u001b[0;32m      3\u001b[0m criterion \u001b[38;5;241m=\u001b[39m nn\u001b[38;5;241m.\u001b[39mKLDivLoss(reduction\u001b[38;5;241m=\u001b[39m\u001b[38;5;124m'\u001b[39m\u001b[38;5;124mbatchmean\u001b[39m\u001b[38;5;124m'\u001b[39m)\n\u001b[1;32m----> 5\u001b[0m model_probas \u001b[38;5;241m=\u001b[39m \u001b[43mbuild_and_train_model\u001b[49m\u001b[43m(\u001b[49m\u001b[43marchi\u001b[49m\u001b[38;5;241;43m=\u001b[39;49m\u001b[43mSimpleCNNprobas\u001b[49m\u001b[43m,\u001b[49m\u001b[43m \u001b[49m\u001b[43mcriterion\u001b[49m\u001b[38;5;241;43m=\u001b[39;49m\u001b[43mcriterion\u001b[49m\u001b[43m,\u001b[49m\u001b[43m \u001b[49m\u001b[43mdevice\u001b[49m\u001b[38;5;241;43m=\u001b[39;49m\u001b[43mdevice\u001b[49m\u001b[43m)\u001b[49m\n",
      "Cell \u001b[1;32mIn[9], line 21\u001b[0m, in \u001b[0;36mbuild_and_train_model\u001b[1;34m(archi, trainloader, input_shape, output_shape, optimizer, criterion, device, n_epochs, lr)\u001b[0m\n\u001b[0;32m     19\u001b[0m \u001b[38;5;66;03m# forward + backward + optimize\u001b[39;00m\n\u001b[0;32m     20\u001b[0m outputs \u001b[38;5;241m=\u001b[39m model(inputs)\n\u001b[1;32m---> 21\u001b[0m loss \u001b[38;5;241m=\u001b[39m \u001b[43mcriterion\u001b[49m\u001b[43m(\u001b[49m\u001b[43moutputs\u001b[49m\u001b[43m,\u001b[49m\u001b[43m \u001b[49m\u001b[43mlabels\u001b[49m\u001b[43m)\u001b[49m\n\u001b[0;32m     22\u001b[0m loss\u001b[38;5;241m.\u001b[39mbackward()\n\u001b[0;32m     23\u001b[0m optimizer\u001b[38;5;241m.\u001b[39mstep()\n",
      "File \u001b[1;32mc:\\Users\\PabloHueso\\miniconda3\\envs\\EntornoDL\\lib\\site-packages\\torch\\nn\\modules\\module.py:1501\u001b[0m, in \u001b[0;36mModule._call_impl\u001b[1;34m(self, *args, **kwargs)\u001b[0m\n\u001b[0;32m   1496\u001b[0m \u001b[38;5;66;03m# If we don't have any hooks, we want to skip the rest of the logic in\u001b[39;00m\n\u001b[0;32m   1497\u001b[0m \u001b[38;5;66;03m# this function, and just call forward.\u001b[39;00m\n\u001b[0;32m   1498\u001b[0m \u001b[38;5;28;01mif\u001b[39;00m \u001b[38;5;129;01mnot\u001b[39;00m (\u001b[38;5;28mself\u001b[39m\u001b[38;5;241m.\u001b[39m_backward_hooks \u001b[38;5;129;01mor\u001b[39;00m \u001b[38;5;28mself\u001b[39m\u001b[38;5;241m.\u001b[39m_backward_pre_hooks \u001b[38;5;129;01mor\u001b[39;00m \u001b[38;5;28mself\u001b[39m\u001b[38;5;241m.\u001b[39m_forward_hooks \u001b[38;5;129;01mor\u001b[39;00m \u001b[38;5;28mself\u001b[39m\u001b[38;5;241m.\u001b[39m_forward_pre_hooks\n\u001b[0;32m   1499\u001b[0m         \u001b[38;5;129;01mor\u001b[39;00m _global_backward_pre_hooks \u001b[38;5;129;01mor\u001b[39;00m _global_backward_hooks\n\u001b[0;32m   1500\u001b[0m         \u001b[38;5;129;01mor\u001b[39;00m _global_forward_hooks \u001b[38;5;129;01mor\u001b[39;00m _global_forward_pre_hooks):\n\u001b[1;32m-> 1501\u001b[0m     \u001b[38;5;28;01mreturn\u001b[39;00m forward_call(\u001b[38;5;241m*\u001b[39margs, \u001b[38;5;241m*\u001b[39m\u001b[38;5;241m*\u001b[39mkwargs)\n\u001b[0;32m   1502\u001b[0m \u001b[38;5;66;03m# Do not call functions when jit is used\u001b[39;00m\n\u001b[0;32m   1503\u001b[0m full_backward_hooks, non_full_backward_hooks \u001b[38;5;241m=\u001b[39m [], []\n",
      "File \u001b[1;32mc:\\Users\\PabloHueso\\miniconda3\\envs\\EntornoDL\\lib\\site-packages\\torch\\nn\\modules\\loss.py:471\u001b[0m, in \u001b[0;36mKLDivLoss.forward\u001b[1;34m(self, input, target)\u001b[0m\n\u001b[0;32m    470\u001b[0m \u001b[38;5;28;01mdef\u001b[39;00m \u001b[38;5;21mforward\u001b[39m(\u001b[38;5;28mself\u001b[39m, \u001b[38;5;28minput\u001b[39m: Tensor, target: Tensor) \u001b[38;5;241m-\u001b[39m\u001b[38;5;241m>\u001b[39m Tensor:\n\u001b[1;32m--> 471\u001b[0m     \u001b[38;5;28;01mreturn\u001b[39;00m \u001b[43mF\u001b[49m\u001b[38;5;241;43m.\u001b[39;49m\u001b[43mkl_div\u001b[49m\u001b[43m(\u001b[49m\u001b[38;5;28;43minput\u001b[39;49m\u001b[43m,\u001b[49m\u001b[43m \u001b[49m\u001b[43mtarget\u001b[49m\u001b[43m,\u001b[49m\u001b[43m \u001b[49m\u001b[43mreduction\u001b[49m\u001b[38;5;241;43m=\u001b[39;49m\u001b[38;5;28;43mself\u001b[39;49m\u001b[38;5;241;43m.\u001b[39;49m\u001b[43mreduction\u001b[49m\u001b[43m,\u001b[49m\u001b[43m \u001b[49m\u001b[43mlog_target\u001b[49m\u001b[38;5;241;43m=\u001b[39;49m\u001b[38;5;28;43mself\u001b[39;49m\u001b[38;5;241;43m.\u001b[39;49m\u001b[43mlog_target\u001b[49m\u001b[43m)\u001b[49m\n",
      "File \u001b[1;32mc:\\Users\\PabloHueso\\miniconda3\\envs\\EntornoDL\\lib\\site-packages\\torch\\nn\\functional.py:2931\u001b[0m, in \u001b[0;36mkl_div\u001b[1;34m(input, target, size_average, reduce, reduction, log_target)\u001b[0m\n\u001b[0;32m   2928\u001b[0m     \u001b[38;5;28;01melse\u001b[39;00m:\n\u001b[0;32m   2929\u001b[0m         reduction_enum \u001b[38;5;241m=\u001b[39m _Reduction\u001b[38;5;241m.\u001b[39mget_enum(reduction)\n\u001b[1;32m-> 2931\u001b[0m reduced \u001b[38;5;241m=\u001b[39m \u001b[43mtorch\u001b[49m\u001b[38;5;241;43m.\u001b[39;49m\u001b[43mkl_div\u001b[49m\u001b[43m(\u001b[49m\u001b[38;5;28;43minput\u001b[39;49m\u001b[43m,\u001b[49m\u001b[43m \u001b[49m\u001b[43mtarget\u001b[49m\u001b[43m,\u001b[49m\u001b[43m \u001b[49m\u001b[43mreduction_enum\u001b[49m\u001b[43m,\u001b[49m\u001b[43m \u001b[49m\u001b[43mlog_target\u001b[49m\u001b[38;5;241;43m=\u001b[39;49m\u001b[43mlog_target\u001b[49m\u001b[43m)\u001b[49m\n\u001b[0;32m   2933\u001b[0m \u001b[38;5;28;01mif\u001b[39;00m reduction \u001b[38;5;241m==\u001b[39m \u001b[38;5;124m\"\u001b[39m\u001b[38;5;124mbatchmean\u001b[39m\u001b[38;5;124m\"\u001b[39m \u001b[38;5;129;01mand\u001b[39;00m \u001b[38;5;28minput\u001b[39m\u001b[38;5;241m.\u001b[39mdim() \u001b[38;5;241m!=\u001b[39m \u001b[38;5;241m0\u001b[39m:\n\u001b[0;32m   2934\u001b[0m     reduced \u001b[38;5;241m=\u001b[39m reduced \u001b[38;5;241m/\u001b[39m \u001b[38;5;28minput\u001b[39m\u001b[38;5;241m.\u001b[39msize()[\u001b[38;5;241m0\u001b[39m]\n",
      "\u001b[1;31mRuntimeError\u001b[0m: kl_div: Integral inputs not supported."
     ]
    }
   ],
   "source": [
    "input_channels=1\n",
    "output_shape=10\n",
    "criterion = nn.KLDivLoss(reduction='batchmean')\n",
    "\n",
    "model_probas = build_and_train_model(archi=SimpleCNNprobas, criterion=criterion, device=device)"
   ]
  },
  {
   "cell_type": "code",
   "execution_count": null,
   "id": "a860789f",
   "metadata": {},
   "outputs": [],
   "source": [
    "model_probas = build_and_train_model(device=device)"
   ]
  },
  {
   "cell_type": "code",
   "execution_count": null,
   "id": "402e449b",
   "metadata": {},
   "outputs": [],
   "source": [
    "loss2 = test_loop(testloader, model, criterion, device)"
   ]
  },
  {
   "cell_type": "markdown",
   "id": "d1c20446",
   "metadata": {},
   "source": [
    "## Example of attack"
   ]
  },
  {
   "cell_type": "code",
   "execution_count": 13,
   "id": "70ca8641",
   "metadata": {},
   "outputs": [],
   "source": [
    "x_batch, y_batch = next(iter(trainloader)) #x_batch is of dimension [B, C, H, W] = [512, 1, 28, 28]. Elements of it (like x_batch[0]) are of dimension [C, H, W] = [1, 28, 28].\n",
    "x_single = x_batch[0].unsqueeze(0)  # Add batch dimension back (shape: [1, C, H, W])\n",
    "\n",
    "\n",
    "x_single = x_single.to(device)\n",
    "output = model(x_single)"
   ]
  },
  {
   "cell_type": "code",
   "execution_count": 14,
   "id": "c641f6ad",
   "metadata": {},
   "outputs": [],
   "source": [
    "x_batch = x_batch.to(device)"
   ]
  },
  {
   "cell_type": "code",
   "execution_count": 37,
   "id": "e6c7d9d5",
   "metadata": {},
   "outputs": [],
   "source": [
    "def jacobian_batch(model, x_batch): \n",
    "    # Compute jacobian at a point (w.r.t. x only)\n",
    "    B = len(x_batch) # batch size\n",
    "    J_all = torch.func.jacrev(model)(x_batch) # yields torch.Size([B, nb_classes, B, C, H, W])\n",
    "    nb_classes = J_all.shape[1]\n",
    "    J_diag = J_all.diagonal(dim1=0, dim2=2)   # (B,nb_classes,C,H,W)\n",
    "    J_diag = J_diag.reshape(B, nb_classes, -1)        # (B,nb_classes,CxHxW)\n",
    "    return J_diag\n"
   ]
  },
  {
   "cell_type": "code",
   "execution_count": null,
   "id": "986909ea",
   "metadata": {},
   "outputs": [
    {
     "name": "stdout",
     "output_type": "stream",
     "text": [
      "10\n"
     ]
    }
   ],
   "source": []
  },
  {
   "cell_type": "code",
   "execution_count": 16,
   "id": "4ff831ca",
   "metadata": {},
   "outputs": [
    {
     "name": "stdout",
     "output_type": "stream",
     "text": [
      "torch.Size([32, 10, 32, 1, 28, 28])\n",
      "torch.Size([10, 1, 28, 28, 32])\n",
      "torch.Size([32, 10, 784])\n"
     ]
    }
   ],
   "source": [
    " # Compute jacobian at a point (w.r.t. x only)\n",
    "B = len(x_batch) # batch size\n",
    "J_all = torch.func.jacrev(model)(x_batch) #yields torch.Size([B, 10, B, 1, 28, 28])\n",
    "print(J_all.shape)\n",
    "J_diag = J_all.diagonal(dim1=0, dim2=2)   # (10,1,28,28,B)\n",
    "print(J_diag.shape)\n",
    "J_diag = J_diag.reshape(B, 10, -1)        # (B,10,784)\n",
    "print(J_diag.shape)"
   ]
  },
  {
   "cell_type": "code",
   "execution_count": 38,
   "id": "925ca869",
   "metadata": {},
   "outputs": [],
   "source": [
    "jacobian_b = jacobian_batch(model, x_single)"
   ]
  },
  {
   "cell_type": "code",
   "execution_count": 39,
   "id": "6c514106",
   "metadata": {},
   "outputs": [],
   "source": [
    "J_pinv = torch.linalg.pinv(jacobian_b)"
   ]
  },
  {
   "cell_type": "code",
   "execution_count": 40,
   "id": "05f1b120",
   "metadata": {},
   "outputs": [
    {
     "data": {
      "text/plain": [
       "torch.Size([1, 784, 10])"
      ]
     },
     "execution_count": 40,
     "metadata": {},
     "output_type": "execute_result"
    }
   ],
   "source": [
    "J_pinv.shape"
   ]
  },
  {
   "cell_type": "code",
   "execution_count": 41,
   "id": "37c7558b",
   "metadata": {},
   "outputs": [],
   "source": [
    "model_output = model(x_batch)"
   ]
  },
  {
   "cell_type": "code",
   "execution_count": 42,
   "id": "6e0d1445",
   "metadata": {},
   "outputs": [],
   "source": [
    "topk = torch.topk(input=model_output, k=3, dim=1)"
   ]
  },
  {
   "cell_type": "code",
   "execution_count": null,
   "id": "35c98c93",
   "metadata": {},
   "outputs": [],
   "source": [
    "def flipping_vector(model, x_batch, attacked_class): \n",
    "    model_output = model(x_batch) # [B, c]\n",
    "    B, c = model_output.shape\n",
    "\n",
    "    assert 2 <= attacked_class <= c, \"attacked_class must be in 2,...,c\"\n",
    "\n",
    "    largest_logits = torch.topk(model_output, k=attacked_class, dim=1).indices\n",
    "\n",
    "    # i: index of max logit per sample (argmax) -> [B]\n",
    "    i = largest_logits[:, 0]\n",
    "\n",
    "    # j: index of attacked_class-th largest logit -> [B]\n",
    "    j = largest_logits[:, -1] \n",
    "    \n",
    "\n",
    "    flipping = torch.zeros_like(model_output)  # [B, c]\n",
    "\n",
    "    batch_indices = torch.arange(B) #vector [0, 1, ... , B-1]\n",
    "\n",
    "    flipping[batch_indices, i] = -1\n",
    "    flipping[batch_indices, j] = 1\n",
    "\n",
    "    return flipping "
   ]
  },
  {
   "cell_type": "code",
   "execution_count": 43,
   "id": "027180c9",
   "metadata": {},
   "outputs": [],
   "source": [
    "flips = flipping_vector(model, x_single, 2)"
   ]
  },
  {
   "cell_type": "code",
   "execution_count": 44,
   "id": "99b61371",
   "metadata": {},
   "outputs": [],
   "source": [
    "def flat(x):            # x : (B,C,H,W)  contiguous\n",
    "    return x.reshape(x.size(0), -1)           # (B, C*H*W)\n",
    "\n",
    "def unflat(v, C, H, W):  # v : (B, C*H*W)\n",
    "    return v.reshape(v.size(0), C, H, W)      # (B,C,H,W)"
   ]
  },
  {
   "cell_type": "code",
   "execution_count": 45,
   "id": "c7ede2e3",
   "metadata": {},
   "outputs": [
    {
     "name": "stdout",
     "output_type": "stream",
     "text": [
      "torch.Size([1, 784, 10])\n",
      "torch.Size([1, 10, 1])\n"
     ]
    }
   ],
   "source": [
    "print(J_pinv.shape)\n",
    "print(flips.unsqueeze(2).shape)"
   ]
  },
  {
   "cell_type": "code",
   "execution_count": 46,
   "id": "be99d386",
   "metadata": {},
   "outputs": [],
   "source": [
    "attack = torch.bmm(J_pinv, flips.unsqueeze(2))\n",
    "attack_matrix_batch = unflat(attack.squeeze(2), 1, 28, 28)"
   ]
  },
  {
   "cell_type": "code",
   "execution_count": 47,
   "id": "1f025b4e",
   "metadata": {},
   "outputs": [],
   "source": [
    "x_adversarial = x_single + attack_matrix_batch"
   ]
  },
  {
   "cell_type": "code",
   "execution_count": 48,
   "id": "ce93cbc6",
   "metadata": {},
   "outputs": [
    {
     "data": {
      "image/png": "[encoded data removed]",
      "text/plain": [
       "<Figure size 640x480 with 1 Axes>"
      ]
     },
     "metadata": {},
     "output_type": "display_data"
    },
    {
     "name": "stdout",
     "output_type": "stream",
     "text": [
      "Labels:      3             7             9             7 \n",
      "\n",
      "Image shape (number of channels, height, width): (1, 28, 28)\n"
     ]
    }
   ],
   "source": [
    "# get some random training images\n",
    "dataiter = iter(trainloader)\n",
    "images, labels = next(dataiter)\n",
    "images, labels = images[:4], labels[:4]\n",
    "\n",
    "# show images\n",
    "imshow(torchvision.utils.make_grid(images))\n",
    "# print labels\n",
    "print('Labels:     ','             '.join(f'{labels[j]}' for j in range(4)), '\\n')\n",
    "print(f'Image shape (number of channels, height, width): {tuple(images[0].shape)}')"
   ]
  },
  {
   "cell_type": "code",
   "execution_count": 30,
   "id": "3f40ea84",
   "metadata": {},
   "outputs": [
    {
     "name": "stderr",
     "output_type": "stream",
     "text": [
      "Clipping input data to the valid range for imshow with RGB data ([0..1] for floats or [0..255] for integers).\n"
     ]
    },
    {
     "data": {
      "image/png": "[encoded data removed]",
      "text/plain": [
       "<Figure size 640x480 with 1 Axes>"
      ]
     },
     "metadata": {},
     "output_type": "display_data"
    },
    {
     "data": {
      "image/png": "[encoded data removed]",
      "text/plain": [
       "<Figure size 640x480 with 1 Axes>"
      ]
     },
     "metadata": {},
     "output_type": "display_data"
    }
   ],
   "source": [
    "imshow(torchvision.utils.make_grid(x_adversarial.to('cpu')))\n",
    "imshow(torchvision.utils.make_grid(x_single.to('cpu')))"
   ]
  },
  {
   "cell_type": "code",
   "execution_count": 31,
   "id": "ab4cd8bb",
   "metadata": {},
   "outputs": [
    {
     "name": "stdout",
     "output_type": "stream",
     "text": [
      "tensor([[ -3.8436,   0.8194,  -0.6953,   2.7826,  -3.4599,  -4.4889, -16.2435,\n",
      "          20.2934,  -3.4680,   6.5621]], device='cuda:0',\n",
      "       grad_fn=<AddmmBackward0>)\n",
      "tensor([[ -3.8689,   0.8995,  -0.6885,   2.7727,  -3.4356,  -4.4502, -16.2925,\n",
      "          19.4264,  -3.5797,   7.4543]], device='cuda:0',\n",
      "       grad_fn=<AddmmBackward0>)\n"
     ]
    }
   ],
   "source": [
    "print(model(x_single))\n",
    "print(model(x_adversarial))\n",
    "#This works!!!"
   ]
  },
  {
   "cell_type": "markdown",
   "id": "fe17e620",
   "metadata": {},
   "source": [
    "## Attack performance"
   ]
  },
  {
   "cell_type": "code",
   "execution_count": null,
   "id": "2f3cb38c",
   "metadata": {},
   "outputs": [],
   "source": [
    "def test_loop_attack(dataloader, model, loss_fn, device, attacked_class):\n",
    "    model.eval()\n",
    "    test_loss, correct = 0, 0\n",
    "    with torch.no_grad():\n",
    "      for X, y in dataloader:\n",
    "          pred = model(X.to(device))\n",
    "          loss = loss_fn(pred, y.to(device)).item()\n",
    "          test_loss += loss\n",
    "          # Your current output is the for each class to be the right one.\n",
    "          prediction = pred.argmax(axis=1)\n",
    "          # To compute the accuracy score, we need to know how many correct predictions we got.\n",
    "          correct += (prediction == y.to(device)).sum().item()\n",
    "    test_loss /= len(dataloader)\n",
    "    correct /= len(dataloader.dataset)\n",
    "    print(f\"Test Error: Accuracy: {(100*correct):>0.1f}%, Avg loss: {test_loss:>8f} \\n\")\n",
    "    return test_loss"
   ]
  }
 ],
 "metadata": {
  "kernelspec": {
   "display_name": "EntornoDL",
   "language": "python",
   "name": "python3"
  },
  "language_info": {
   "codemirror_mode": {
    "name": "ipython",
    "version": 3
   },
   "file_extension": ".py",
   "mimetype": "text/x-python",
   "name": "python",
   "nbconvert_exporter": "python",
   "pygments_lexer": "ipython3",
   "version": "3.10.12"
  }
 },
 "nbformat": 4,
 "nbformat_minor": 5
}
